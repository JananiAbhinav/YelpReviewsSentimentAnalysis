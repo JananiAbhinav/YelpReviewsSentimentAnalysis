{
 "cells": [
  {
   "cell_type": "markdown",
   "metadata": {
    "application/vnd.databricks.v1+cell": {
     "cellMetadata": {
      "byteLimit": 2048000,
      "rowLimit": 10000
     },
     "inputWidgets": {},
     "nuid": "27821dd0-7a0e-4b78-80aa-a6f91d5cd5e2",
     "showTitle": false,
     "tableResultSettingsMap": {},
     "title": ""
    }
   },
   "source": [
    "# Bronze to Silver"
   ]
  },
  {
   "cell_type": "markdown",
   "metadata": {
    "application/vnd.databricks.v1+cell": {
     "cellMetadata": {
      "byteLimit": 2048000,
      "rowLimit": 10000
     },
     "inputWidgets": {},
     "nuid": "ef658f5e-230b-4ef4-b057-fb2b326bbee3",
     "showTitle": false,
     "tableResultSettingsMap": {},
     "title": ""
    }
   },
   "source": [
    "---"
   ]
  },
  {
   "cell_type": "code",
   "execution_count": 0,
   "metadata": {
    "application/vnd.databricks.v1+cell": {
     "cellMetadata": {
      "byteLimit": 2048000,
      "rowLimit": 10000
     },
     "inputWidgets": {},
     "nuid": "df319f13-caaf-4246-96a4-f8f331993e28",
     "showTitle": false,
     "tableResultSettingsMap": {},
     "title": ""
    }
   },
   "outputs": [],
   "source": [
    "# Required Imports\n",
    "\n",
    "# Core SparkSession and DataFrame API\n",
    "from pyspark.sql import SparkSession, DataFrame\n",
    "\n",
    "import pyspark.sql.functions as F\n",
    "from pyspark.sql import types as T\n",
    "from pyspark.sql import Window, Row\n",
    "\n",
    "import os\n",
    "import ast"
   ]
  },
  {
   "cell_type": "code",
   "execution_count": 0,
   "metadata": {
    "application/vnd.databricks.v1+cell": {
     "cellMetadata": {
      "byteLimit": 2048000,
      "rowLimit": 10000
     },
     "inputWidgets": {},
     "nuid": "63c653eb-d820-429e-94c5-7d975d322448",
     "showTitle": false,
     "tableResultSettingsMap": {},
     "title": ""
    }
   },
   "outputs": [],
   "source": [
    "# Azure Storage Account Details:\n",
    "storage_account_name = \"adlsyelpdata\"\n",
    "account_key = \"BxtVS/wmFdQMoV0n1q7tagxVM1TCQNObKTt8mNx/MKPcysRqWv4jsBTjSp9q6VRH+68M1zuRAwA9+AStEZq7Rg==\""
   ]
  },
  {
   "cell_type": "code",
   "execution_count": 0,
   "metadata": {
    "application/vnd.databricks.v1+cell": {
     "cellMetadata": {
      "byteLimit": 2048000,
      "rowLimit": 10000
     },
     "inputWidgets": {},
     "nuid": "dd2f262a-61cc-48ec-b392-a1f0944ac777",
     "showTitle": false,
     "tableResultSettingsMap": {},
     "title": ""
    }
   },
   "outputs": [],
   "source": [
    "# Creating Spark Session\n",
    "spark = SparkSession.builder \\\n",
    "  .appName(\"Bronze_to_Silver\") \\\n",
    "  .getOrCreate()\n",
    "\n",
    "\n",
    "# Connecting to Azure Storage using Account Key\n",
    "spark.conf.set(\n",
    "  f\"fs.azure.account.key.{storage_account_name}.dfs.core.windows.net\",\n",
    "  account_key\n",
    ")"
   ]
  },
  {
   "cell_type": "code",
   "execution_count": 0,
   "metadata": {
    "application/vnd.databricks.v1+cell": {
     "cellMetadata": {
      "byteLimit": 2048000,
      "rowLimit": 10000
     },
     "inputWidgets": {},
     "nuid": "2522576e-ad2b-4ddc-97d5-6d88cba6aff9",
     "showTitle": false,
     "tableResultSettingsMap": {},
     "title": ""
    }
   },
   "outputs": [
    {
     "output_type": "display_data",
     "data": {
      "text/html": [
       "<style scoped>\n",
       "  .table-result-container {\n",
       "    max-height: 300px;\n",
       "    overflow: auto;\n",
       "  }\n",
       "  table, th, td {\n",
       "    border: 1px solid black;\n",
       "    border-collapse: collapse;\n",
       "  }\n",
       "  th, td {\n",
       "    padding: 5px;\n",
       "  }\n",
       "  th {\n",
       "    text-align: left;\n",
       "  }\n",
       "</style><div class='table-result-container'><table class='table-result'><thead style='background-color: white'><tr><th>path</th><th>name</th><th>size</th><th>modificationTime</th></tr></thead><tbody><tr><td>abfss://bronze@adlsyelpdata.dfs.core.windows.net/us_city/</td><td>us_city/</td><td>0</td><td>1733131620000</td></tr><tr><td>abfss://bronze@adlsyelpdata.dfs.core.windows.net/yelp_api/</td><td>yelp_api/</td><td>0</td><td>1732979576000</td></tr><tr><td>abfss://bronze@adlsyelpdata.dfs.core.windows.net/yelp_open/</td><td>yelp_open/</td><td>0</td><td>1732979570000</td></tr></tbody></table></div>"
      ]
     },
     "metadata": {
      "application/vnd.databricks.v1+output": {
       "addedWidgets": {},
       "aggData": [],
       "aggError": "",
       "aggOverflow": false,
       "aggSchema": [],
       "aggSeriesLimitReached": false,
       "aggType": "",
       "arguments": {},
       "columnCustomDisplayInfos": {},
       "data": [
        [
         "abfss://bronze@adlsyelpdata.dfs.core.windows.net/us_city/",
         "us_city/",
         0,
         1733131620000
        ],
        [
         "abfss://bronze@adlsyelpdata.dfs.core.windows.net/yelp_api/",
         "yelp_api/",
         0,
         1732979576000
        ],
        [
         "abfss://bronze@adlsyelpdata.dfs.core.windows.net/yelp_open/",
         "yelp_open/",
         0,
         1732979570000
        ]
       ],
       "datasetInfos": [],
       "dbfsResultPath": null,
       "isJsonSchema": true,
       "metadata": {},
       "overflow": false,
       "plotOptions": {
        "customPlotOptions": {},
        "displayType": "table",
        "pivotAggregation": null,
        "pivotColumns": null,
        "xColumns": null,
        "yColumns": null
       },
       "removedWidgets": [],
       "schema": [
        {
         "metadata": "{}",
         "name": "path",
         "type": "\"string\""
        },
        {
         "metadata": "{}",
         "name": "name",
         "type": "\"string\""
        },
        {
         "metadata": "{}",
         "name": "size",
         "type": "\"long\""
        },
        {
         "metadata": "{}",
         "name": "modificationTime",
         "type": "\"long\""
        }
       ],
       "type": "table"
      }
     },
     "output_type": "display_data"
    }
   ],
   "source": [
    "# Bronze container files\n",
    "display(dbutils.fs.ls(f\"abfss://bronze@adlsyelpdata.dfs.core.windows.net/\"))"
   ]
  },
  {
   "cell_type": "code",
   "execution_count": 0,
   "metadata": {
    "application/vnd.databricks.v1+cell": {
     "cellMetadata": {
      "byteLimit": 2048000,
      "rowLimit": 10000
     },
     "inputWidgets": {},
     "nuid": "a3315458-5b72-43be-8fb5-c7d67ec92489",
     "showTitle": false,
     "tableResultSettingsMap": {},
     "title": ""
    }
   },
   "outputs": [
    {
     "output_type": "display_data",
     "data": {
      "text/html": [
       "<style scoped>\n",
       "  .table-result-container {\n",
       "    max-height: 300px;\n",
       "    overflow: auto;\n",
       "  }\n",
       "  table, th, td {\n",
       "    border: 1px solid black;\n",
       "    border-collapse: collapse;\n",
       "  }\n",
       "  th, td {\n",
       "    padding: 5px;\n",
       "  }\n",
       "  th {\n",
       "    text-align: left;\n",
       "  }\n",
       "</style><div class='table-result-container'><table class='table-result'><thead style='background-color: white'><tr><th>path</th><th>name</th><th>size</th><th>modificationTime</th></tr></thead><tbody><tr><td>abfss://bronze@adlsyelpdata.dfs.core.windows.net/yelp_open/yelp_academic_dataset_business.json</td><td>yelp_academic_dataset_business.json</td><td>118863795</td><td>1732979653000</td></tr><tr><td>abfss://bronze@adlsyelpdata.dfs.core.windows.net/yelp_open/yelp_academic_dataset_checkin.json</td><td>yelp_academic_dataset_checkin.json</td><td>286958945</td><td>1732979698000</td></tr><tr><td>abfss://bronze@adlsyelpdata.dfs.core.windows.net/yelp_open/yelp_academic_dataset_review.json</td><td>yelp_academic_dataset_review.json</td><td>5341868833</td><td>1732980299000</td></tr><tr><td>abfss://bronze@adlsyelpdata.dfs.core.windows.net/yelp_open/yelp_academic_dataset_tip.json</td><td>yelp_academic_dataset_tip.json</td><td>180604475</td><td>1732979691000</td></tr><tr><td>abfss://bronze@adlsyelpdata.dfs.core.windows.net/yelp_open/yelp_academic_dataset_user.json</td><td>yelp_academic_dataset_user.json</td><td>3363329011</td><td>1732979911000</td></tr></tbody></table></div>"
      ]
     },
     "metadata": {
      "application/vnd.databricks.v1+output": {
       "addedWidgets": {},
       "aggData": [],
       "aggError": "",
       "aggOverflow": false,
       "aggSchema": [],
       "aggSeriesLimitReached": false,
       "aggType": "",
       "arguments": {},
       "columnCustomDisplayInfos": {},
       "data": [
        [
         "abfss://bronze@adlsyelpdata.dfs.core.windows.net/yelp_open/yelp_academic_dataset_business.json",
         "yelp_academic_dataset_business.json",
         118863795,
         1732979653000
        ],
        [
         "abfss://bronze@adlsyelpdata.dfs.core.windows.net/yelp_open/yelp_academic_dataset_checkin.json",
         "yelp_academic_dataset_checkin.json",
         286958945,
         1732979698000
        ],
        [
         "abfss://bronze@adlsyelpdata.dfs.core.windows.net/yelp_open/yelp_academic_dataset_review.json",
         "yelp_academic_dataset_review.json",
         5341868833,
         1732980299000
        ],
        [
         "abfss://bronze@adlsyelpdata.dfs.core.windows.net/yelp_open/yelp_academic_dataset_tip.json",
         "yelp_academic_dataset_tip.json",
         180604475,
         1732979691000
        ],
        [
         "abfss://bronze@adlsyelpdata.dfs.core.windows.net/yelp_open/yelp_academic_dataset_user.json",
         "yelp_academic_dataset_user.json",
         3363329011,
         1732979911000
        ]
       ],
       "datasetInfos": [],
       "dbfsResultPath": null,
       "isJsonSchema": true,
       "metadata": {},
       "overflow": false,
       "plotOptions": {
        "customPlotOptions": {},
        "displayType": "table",
        "pivotAggregation": null,
        "pivotColumns": null,
        "xColumns": null,
        "yColumns": null
       },
       "removedWidgets": [],
       "schema": [
        {
         "metadata": "{}",
         "name": "path",
         "type": "\"string\""
        },
        {
         "metadata": "{}",
         "name": "name",
         "type": "\"string\""
        },
        {
         "metadata": "{}",
         "name": "size",
         "type": "\"long\""
        },
        {
         "metadata": "{}",
         "name": "modificationTime",
         "type": "\"long\""
        }
       ],
       "type": "table"
      }
     },
     "output_type": "display_data"
    }
   ],
   "source": [
    "# Displaying files present in folder yelp_open\n",
    "display(dbutils.fs.ls(f\"abfss://bronze@adlsyelpdata.dfs.core.windows.net/yelp_open\"))"
   ]
  },
  {
   "cell_type": "code",
   "execution_count": 0,
   "metadata": {
    "application/vnd.databricks.v1+cell": {
     "cellMetadata": {
      "byteLimit": 2048000,
      "rowLimit": 10000
     },
     "inputWidgets": {},
     "nuid": "171451c3-6dee-4016-8454-8e441bcc5a19",
     "showTitle": false,
     "tableResultSettingsMap": {},
     "title": ""
    }
   },
   "outputs": [
    {
     "output_type": "display_data",
     "data": {
      "text/html": [
       "<style scoped>\n",
       "  .table-result-container {\n",
       "    max-height: 300px;\n",
       "    overflow: auto;\n",
       "  }\n",
       "  table, th, td {\n",
       "    border: 1px solid black;\n",
       "    border-collapse: collapse;\n",
       "  }\n",
       "  th, td {\n",
       "    padding: 5px;\n",
       "  }\n",
       "  th {\n",
       "    text-align: left;\n",
       "  }\n",
       "</style><div class='table-result-container'><table class='table-result'><thead style='background-color: white'><tr><th>path</th><th>name</th><th>size</th><th>modificationTime</th></tr></thead><tbody><tr><td>abfss://bronze@adlsyelpdata.dfs.core.windows.net/us_city/us-cities-attributes.csv</td><td>us-cities-attributes.csv</td><td>1614</td><td>1733131926000</td></tr><tr><td>abfss://bronze@adlsyelpdata.dfs.core.windows.net/us_city/us-cities-demographics.json</td><td>us-cities-demographics.json</td><td>850747</td><td>1733131636000</td></tr><tr><td>abfss://bronze@adlsyelpdata.dfs.core.windows.net/us_city/us-cities-humidity.csv</td><td>us-cities-humidity.csv</td><td>9075077</td><td>1733131956000</td></tr><tr><td>abfss://bronze@adlsyelpdata.dfs.core.windows.net/us_city/us-cities-pressure.csv</td><td>us-cities-pressure.csv</td><td>12155911</td><td>1733131958000</td></tr><tr><td>abfss://bronze@adlsyelpdata.dfs.core.windows.net/us_city/us-cities-temperature.csv</td><td>us-cities-temperature.csv</td><td>13971171</td><td>1733131958000</td></tr><tr><td>abfss://bronze@adlsyelpdata.dfs.core.windows.net/us_city/us-cities-weather-description.csv</td><td>us-cities-weather-description.csv</td><td>21858089</td><td>1733131960000</td></tr><tr><td>abfss://bronze@adlsyelpdata.dfs.core.windows.net/us_city/us-cities-wind-direction.csv</td><td>us-cities-wind-direction.csv</td><td>10171003</td><td>1733131954000</td></tr><tr><td>abfss://bronze@adlsyelpdata.dfs.core.windows.net/us_city/us-cities-wind-speed.csv</td><td>us-cities-wind-speed.csv</td><td>7457531</td><td>1733131924000</td></tr></tbody></table></div>"
      ]
     },
     "metadata": {
      "application/vnd.databricks.v1+output": {
       "addedWidgets": {},
       "aggData": [],
       "aggError": "",
       "aggOverflow": false,
       "aggSchema": [],
       "aggSeriesLimitReached": false,
       "aggType": "",
       "arguments": {},
       "columnCustomDisplayInfos": {},
       "data": [
        [
         "abfss://bronze@adlsyelpdata.dfs.core.windows.net/us_city/us-cities-attributes.csv",
         "us-cities-attributes.csv",
         1614,
         1733131926000
        ],
        [
         "abfss://bronze@adlsyelpdata.dfs.core.windows.net/us_city/us-cities-demographics.json",
         "us-cities-demographics.json",
         850747,
         1733131636000
        ],
        [
         "abfss://bronze@adlsyelpdata.dfs.core.windows.net/us_city/us-cities-humidity.csv",
         "us-cities-humidity.csv",
         9075077,
         1733131956000
        ],
        [
         "abfss://bronze@adlsyelpdata.dfs.core.windows.net/us_city/us-cities-pressure.csv",
         "us-cities-pressure.csv",
         12155911,
         1733131958000
        ],
        [
         "abfss://bronze@adlsyelpdata.dfs.core.windows.net/us_city/us-cities-temperature.csv",
         "us-cities-temperature.csv",
         13971171,
         1733131958000
        ],
        [
         "abfss://bronze@adlsyelpdata.dfs.core.windows.net/us_city/us-cities-weather-description.csv",
         "us-cities-weather-description.csv",
         21858089,
         1733131960000
        ],
        [
         "abfss://bronze@adlsyelpdata.dfs.core.windows.net/us_city/us-cities-wind-direction.csv",
         "us-cities-wind-direction.csv",
         10171003,
         1733131954000
        ],
        [
         "abfss://bronze@adlsyelpdata.dfs.core.windows.net/us_city/us-cities-wind-speed.csv",
         "us-cities-wind-speed.csv",
         7457531,
         1733131924000
        ]
       ],
       "datasetInfos": [],
       "dbfsResultPath": null,
       "isJsonSchema": true,
       "metadata": {},
       "overflow": false,
       "plotOptions": {
        "customPlotOptions": {},
        "displayType": "table",
        "pivotAggregation": null,
        "pivotColumns": null,
        "xColumns": null,
        "yColumns": null
       },
       "removedWidgets": [],
       "schema": [
        {
         "metadata": "{}",
         "name": "path",
         "type": "\"string\""
        },
        {
         "metadata": "{}",
         "name": "name",
         "type": "\"string\""
        },
        {
         "metadata": "{}",
         "name": "size",
         "type": "\"long\""
        },
        {
         "metadata": "{}",
         "name": "modificationTime",
         "type": "\"long\""
        }
       ],
       "type": "table"
      }
     },
     "output_type": "display_data"
    }
   ],
   "source": [
    "# Displaying files present in folder us_city\n",
    "display(dbutils.fs.ls(f\"abfss://bronze@adlsyelpdata.dfs.core.windows.net/us_city\"))"
   ]
  },
  {
   "cell_type": "markdown",
   "metadata": {
    "application/vnd.databricks.v1+cell": {
     "cellMetadata": {
      "byteLimit": 2048000,
      "rowLimit": 10000
     },
     "inputWidgets": {},
     "nuid": "89b523aa-ace5-4e68-b458-bc0b41edff0f",
     "showTitle": false,
     "tableResultSettingsMap": {},
     "title": ""
    }
   },
   "source": [
    "---"
   ]
  },
  {
   "cell_type": "markdown",
   "metadata": {
    "application/vnd.databricks.v1+cell": {
     "cellMetadata": {
      "byteLimit": 2048000,
      "rowLimit": 10000
     },
     "inputWidgets": {},
     "nuid": "822f0e37-e908-4244-a330-79e25ec9d2d2",
     "showTitle": false,
     "tableResultSettingsMap": {},
     "title": ""
    }
   },
   "source": [
    "## Normalization of Yelp dataset"
   ]
  },
  {
   "cell_type": "code",
   "execution_count": 0,
   "metadata": {
    "application/vnd.databricks.v1+cell": {
     "cellMetadata": {
      "byteLimit": 2048000,
      "rowLimit": 10000
     },
     "inputWidgets": {},
     "nuid": "708f4277-6187-4993-9c28-84daf4af8d8f",
     "showTitle": false,
     "tableResultSettingsMap": {},
     "title": ""
    }
   },
   "outputs": [],
   "source": [
    "# Function to describe a dataframe\n",
    "def describe_dataframe(df: DataFrame, sample_rows: int = 5):\n",
    "    \"\"\"\n",
    "    A reusable function to describe all details of a PySpark DataFrame.\n",
    "    \n",
    "    Parameters:\n",
    "        df (DataFrame): The PySpark DataFrame to describe.\n",
    "        sample_rows (int): Number of sample rows to display. Default is 5.\n",
    "        \n",
    "    Returns:\n",
    "        None: Prints the DataFrame details.\n",
    "    \"\"\"\n",
    "    print(\"=== DataFrame Overview ===\")\n",
    "    \n",
    "    # Number of rows and columns\n",
    "    print(f\"\\nNumber of rows: {df.count()}\")\n",
    "    print(f\"Number of columns: {len(df.columns)}\")\n",
    "    \n",
    "    # Schema\n",
    "    print(\"\\nSchema:\")\n",
    "    df.printSchema()\n",
    "    \n",
    "    # Display sample data\n",
    "    print(f\"\\nSample Data (First {sample_rows} Rows):\")\n",
    "    df.show(sample_rows, truncate=False)"
   ]
  },
  {
   "cell_type": "code",
   "execution_count": 0,
   "metadata": {
    "application/vnd.databricks.v1+cell": {
     "cellMetadata": {
      "byteLimit": 2048000,
      "rowLimit": 10000
     },
     "inputWidgets": {},
     "nuid": "e00f4dfa-4311-4bcb-8894-6c29f79df49b",
     "showTitle": false,
     "tableResultSettingsMap": {},
     "title": ""
    }
   },
   "outputs": [],
   "source": [
    "def read_file_from_adls(file_path, options=None):\n",
    "    \"\"\"\n",
    "    Reads a file from Azure Data Lake Storage (ADLS) into a PySpark DataFrame.\n",
    "    Automatically detects the file type based on the file extension.\n",
    "\n",
    "    Parameters:\n",
    "        file_path (str): The ADLS file path (abfss://...).\n",
    "        options (dict): Additional options to pass to the reader (e.g., for CSV headers).\n",
    "\n",
    "    Returns:\n",
    "        DataFrame: A PySpark DataFrame containing the data.\n",
    "    \"\"\"\n",
    "    try:\n",
    "        # Default options\n",
    "        if options is None:\n",
    "            options = {}\n",
    "\n",
    "        # Detect file type from the file extension\n",
    "        file_extension = os.path.splitext(file_path)[-1].lower()\n",
    "        \n",
    "        if file_extension == \".json\":\n",
    "            df = spark.read.options(**options).json(file_path)\n",
    "        elif file_extension == \".csv\":\n",
    "            df = spark.read.options(**options).csv(file_path)\n",
    "        elif file_extension == \".parquet\":\n",
    "            df = spark.read.parquet(file_path)\n",
    "        elif file_extension == \".avro\":\n",
    "            df = spark.read.format(\"avro\").options(**options).load(file_path)\n",
    "        else:\n",
    "            raise ValueError(f\"Unsupported file extension: {file_extension}\")\n",
    "\n",
    "        print(f\"Successfully loaded file: {file_path} as {file_extension.upper()}\")\n",
    "        return df\n",
    "    except Exception as e:\n",
    "        print(f\"Error loading file {file_path}: {e}\")\n",
    "        return None\n"
   ]
  },
  {
   "cell_type": "code",
   "execution_count": 0,
   "metadata": {
    "application/vnd.databricks.v1+cell": {
     "cellMetadata": {
      "byteLimit": 2048000,
      "rowLimit": 10000
     },
     "inputWidgets": {},
     "nuid": "43cfc933-c0ca-48b2-9ebe-e9cf92a60020",
     "showTitle": false,
     "tableResultSettingsMap": {},
     "title": ""
    }
   },
   "outputs": [],
   "source": [
    "def write_parquet_to_adls(df, path, mode=\"overwrite\", partition_by=None):\n",
    "    \"\"\"\n",
    "    Write a PySpark DataFrame to Parquet format with options for overwrite mode and partitioning.\n",
    "\n",
    "    Parameters:\n",
    "        df (DataFrame): The PySpark DataFrame to write.\n",
    "        path (str): The destination path for the Parquet file.\n",
    "        mode (str): Write mode. Options: 'overwrite', 'append', 'ignore', 'error'. Default is 'overwrite'.\n",
    "        partition_by (list): List of column names to partition the data by. Default is None.\n",
    "    \n",
    "    Returns:\n",
    "        None\n",
    "    \"\"\"\n",
    "    try:\n",
    "        if partition_by:\n",
    "            df.write.parquet(path, mode=mode, partitionBy=partition_by)\n",
    "        else:\n",
    "            df.write.parquet(path, mode=mode)\n",
    "        \n",
    "        print(f\"Successfully written Parquet file to {path}\")\n",
    "    except Exception as e:\n",
    "        print(f\"Error writing Parquet file to {path}: {e}\")"
   ]
  },
  {
   "cell_type": "code",
   "execution_count": 0,
   "metadata": {
    "application/vnd.databricks.v1+cell": {
     "cellMetadata": {
      "byteLimit": 2048000,
      "rowLimit": 10000
     },
     "inputWidgets": {},
     "nuid": "1672eecd-5bcb-4d43-a2b4-9aae768e1b6d",
     "showTitle": false,
     "tableResultSettingsMap": {},
     "title": ""
    }
   },
   "outputs": [],
   "source": [
    "# Yelp Open dataset Paths\n",
    "business_path = \"abfss://bronze@adlsyelpdata.dfs.core.windows.net/yelp_open/yelp_academic_dataset_business.json\"\n",
    "checkin_path = \"abfss://bronze@adlsyelpdata.dfs.core.windows.net/yelp_open/yelp_academic_dataset_checkin.json\"\n",
    "review_path = \"abfss://bronze@adlsyelpdata.dfs.core.windows.net/yelp_open/yelp_academic_dataset_review.json\"\n",
    "tip_path = \"abfss://bronze@adlsyelpdata.dfs.core.windows.net/yelp_open/yelp_academic_dataset_tip.json\"\n",
    "user_path = \"abfss://bronze@adlsyelpdata.dfs.core.windows.net/yelp_open/yelp_academic_dataset_user.json\"\n",
    "\n",
    "\n",
    "# City Demographics Path\n",
    "city_demograph_path = \"abfss://bronze@adlsyelpdata.dfs.core.windows.net/us_city/us-cities-demographics.json\"\n",
    "city_attributes_path = \"abfss://bronze@adlsyelpdata.dfs.core.windows.net/us_city/us-cities-attributes.json\""
   ]
  },
  {
   "cell_type": "markdown",
   "metadata": {
    "application/vnd.databricks.v1+cell": {
     "cellMetadata": {
      "byteLimit": 2048000,
      "rowLimit": 10000
     },
     "inputWidgets": {},
     "nuid": "7d036dbe-7783-411d-a6fb-fe97575f2be8",
     "showTitle": false,
     "tableResultSettingsMap": {},
     "title": ""
    }
   },
   "source": [
    "### business.json"
   ]
  },
  {
   "cell_type": "code",
   "execution_count": 0,
   "metadata": {
    "application/vnd.databricks.v1+cell": {
     "cellMetadata": {
      "byteLimit": 2048000,
      "rowLimit": 10000
     },
     "inputWidgets": {},
     "nuid": "4b8daddb-e539-40a8-970f-af79779f99b6",
     "showTitle": false,
     "tableResultSettingsMap": {},
     "title": ""
    }
   },
   "outputs": [
    {
     "output_type": "stream",
     "name": "stdout",
     "output_type": "stream",
     "text": [
      "Successfully loaded file: abfss://bronze@adlsyelpdata.dfs.core.windows.net/yelp_open/yelp_academic_dataset_business.json as .JSON\n=== DataFrame Overview ===\n\nNumber of rows: 150346\nNumber of columns: 14\n\nSchema:\nroot\n |-- address: string (nullable = true)\n |-- attributes: struct (nullable = true)\n |    |-- AcceptsInsurance: string (nullable = true)\n |    |-- AgesAllowed: string (nullable = true)\n |    |-- Alcohol: string (nullable = true)\n |    |-- Ambience: string (nullable = true)\n |    |-- BYOB: string (nullable = true)\n |    |-- BYOBCorkage: string (nullable = true)\n |    |-- BestNights: string (nullable = true)\n |    |-- BikeParking: string (nullable = true)\n |    |-- BusinessAcceptsBitcoin: string (nullable = true)\n |    |-- BusinessAcceptsCreditCards: string (nullable = true)\n |    |-- BusinessParking: string (nullable = true)\n |    |-- ByAppointmentOnly: string (nullable = true)\n |    |-- Caters: string (nullable = true)\n |    |-- CoatCheck: string (nullable = true)\n |    |-- Corkage: string (nullable = true)\n |    |-- DietaryRestrictions: string (nullable = true)\n |    |-- DogsAllowed: string (nullable = true)\n |    |-- DriveThru: string (nullable = true)\n |    |-- GoodForDancing: string (nullable = true)\n |    |-- GoodForKids: string (nullable = true)\n |    |-- GoodForMeal: string (nullable = true)\n |    |-- HairSpecializesIn: string (nullable = true)\n |    |-- HappyHour: string (nullable = true)\n |    |-- HasTV: string (nullable = true)\n |    |-- Music: string (nullable = true)\n |    |-- NoiseLevel: string (nullable = true)\n |    |-- Open24Hours: string (nullable = true)\n |    |-- OutdoorSeating: string (nullable = true)\n |    |-- RestaurantsAttire: string (nullable = true)\n |    |-- RestaurantsCounterService: string (nullable = true)\n |    |-- RestaurantsDelivery: string (nullable = true)\n |    |-- RestaurantsGoodForGroups: string (nullable = true)\n |    |-- RestaurantsPriceRange2: string (nullable = true)\n |    |-- RestaurantsReservations: string (nullable = true)\n |    |-- RestaurantsTableService: string (nullable = true)\n |    |-- RestaurantsTakeOut: string (nullable = true)\n |    |-- Smoking: string (nullable = true)\n |    |-- WheelchairAccessible: string (nullable = true)\n |    |-- WiFi: string (nullable = true)\n |-- business_id: string (nullable = true)\n |-- categories: string (nullable = true)\n |-- city: string (nullable = true)\n |-- hours: struct (nullable = true)\n |    |-- Friday: string (nullable = true)\n |    |-- Monday: string (nullable = true)\n |    |-- Saturday: string (nullable = true)\n |    |-- Sunday: string (nullable = true)\n |    |-- Thursday: string (nullable = true)\n |    |-- Tuesday: string (nullable = true)\n |    |-- Wednesday: string (nullable = true)\n |-- is_open: long (nullable = true)\n |-- latitude: double (nullable = true)\n |-- longitude: double (nullable = true)\n |-- name: string (nullable = true)\n |-- postal_code: string (nullable = true)\n |-- review_count: long (nullable = true)\n |-- stars: double (nullable = true)\n |-- state: string (nullable = true)\n\n\nSample Data (First 5 Rows):\n+-------------------------------+---------------------------------------------------------------------------------------------------------------------------------------------------------------------------------------------------------------------------------------------------------------------------------------------------------------------------------+----------------------+----------------------------------------------------------------------------------------------------------+-------------+----------------------------------------------------------------------+-------+----------+------------+------------------------+-----------+------------+-----+-----+\n|address                        |attributes                                                                                                                                                                                                                                                                                                                       |business_id           |categories                                                                                                |city         |hours                                                                 |is_open|latitude  |longitude   |name                    |postal_code|review_count|stars|state|\n+-------------------------------+---------------------------------------------------------------------------------------------------------------------------------------------------------------------------------------------------------------------------------------------------------------------------------------------------------------------------------+----------------------+----------------------------------------------------------------------------------------------------------+-------------+----------------------------------------------------------------------+-------+----------+------------+------------------------+-----------+------------+-----+-----+\n|1616 Chapala St, Ste 2         |{NULL, NULL, NULL, NULL, NULL, NULL, NULL, NULL, NULL, NULL, NULL, True, NULL, NULL, NULL, NULL, NULL, NULL, NULL, NULL, NULL, NULL, NULL, NULL, NULL, NULL, NULL, NULL, NULL, NULL, NULL, NULL, NULL, NULL, NULL, NULL, NULL, NULL, NULL}                                                                                       |Pns2l4eNsfO8kk83dixA6A|Doctors, Traditional Chinese Medicine, Naturopathic/Holistic, Acupuncture, Health & Medical, Nutritionists|Santa Barbara|NULL                                                                  |0      |34.4266787|-119.7111968|Abby Rappoport, LAC, CMQ|93101      |7           |5.0  |CA   |\n|87 Grasso Plaza Shopping Center|{NULL, NULL, NULL, NULL, NULL, NULL, NULL, NULL, NULL, True, NULL, NULL, NULL, NULL, NULL, NULL, NULL, NULL, NULL, NULL, NULL, NULL, NULL, NULL, NULL, NULL, NULL, NULL, NULL, NULL, NULL, NULL, NULL, NULL, NULL, NULL, NULL, NULL, NULL}                                                                                       |mpf3x-BjTdTEA3yCZrAYPw|Shipping Centers, Local Services, Notaries, Mailbox Centers, Printing Services                            |Affton       |{8:0-18:30, 0:0-0:0, 8:0-14:0, NULL, 8:0-18:30, 8:0-18:30, 8:0-18:30} |1      |38.551126 |-90.335695  |The UPS Store           |63123      |15          |3.0  |MO   |\n|5255 E Broadway Blvd           |{NULL, NULL, NULL, NULL, NULL, NULL, NULL, True, NULL, True, {'garage': False, 'street': False, 'validated': False, 'lot': True, 'valet': False}, False, False, False, NULL, NULL, False, NULL, NULL, NULL, NULL, NULL, False, False, NULL, NULL, NULL, False, NULL, NULL, False, NULL, 2, False, NULL, False, NULL, True, u'no'}|tUFrWirKiKi_TAnsVWINQQ|Department Stores, Shopping, Fashion, Home & Garden, Electronics, Furniture Stores                        |Tucson       |{8:0-23:0, 8:0-22:0, 8:0-23:0, 8:0-22:0, 8:0-22:0, 8:0-22:0, 8:0-22:0}|0      |32.223236 |-110.880452 |Target                  |85711      |22          |3.5  |AZ   |\n|935 Race St                    |{NULL, NULL, u'none', NULL, NULL, NULL, NULL, True, NULL, False, {'garage': False, 'street': True, 'validated': False, 'lot': False, 'valet': False}, False, True, NULL, NULL, NULL, NULL, NULL, NULL, NULL, NULL, NULL, NULL, NULL, NULL, NULL, NULL, False, NULL, NULL, False, NULL, 1, NULL, NULL, True, NULL, NULL, u'free'} |MTSW4McQd7CbVtyjqoe9mw|Restaurants, Food, Bubble Tea, Coffee & Tea, Bakeries                                                     |Philadelphia |{7:0-21:0, 7:0-20:0, 7:0-21:0, 7:0-21:0, 7:0-20:0, 7:0-20:0, 7:0-20:0}|1      |39.9555052|-75.1555641 |St Honore Pastries      |19107      |80          |4.0  |PA   |\n|101 Walnut St                  |{NULL, NULL, NULL, NULL, NULL, NULL, NULL, True, NULL, True, {'garage': None, 'street': None, 'validated': None, 'lot': True, 'valet': False}, NULL, False, NULL, NULL, NULL, NULL, NULL, NULL, True, NULL, NULL, NULL, NULL, NULL, NULL, NULL, NULL, NULL, NULL, NULL, NULL, NULL, NULL, NULL, True, NULL, True, NULL}          |mWMc6_wTdE0EUBKIGXDVfA|Brewpubs, Breweries, Food                                                                                 |Green Lane   |{12:0-22:0, NULL, 12:0-22:0, 12:0-18:0, 16:0-22:0, NULL, 14:0-22:0}   |1      |40.3381827|-75.4716585 |Perkiomen Valley Brewery|18054      |13          |4.5  |PA   |\n+-------------------------------+---------------------------------------------------------------------------------------------------------------------------------------------------------------------------------------------------------------------------------------------------------------------------------------------------------------------------------+----------------------+----------------------------------------------------------------------------------------------------------+-------------+----------------------------------------------------------------------+-------+----------+------------+------------------------+-----------+------------+-----+-----+\nonly showing top 5 rows\n\n"
     ]
    }
   ],
   "source": [
    "business_df = read_file_from_adls(business_path)\n",
    "describe_dataframe(business_df)"
   ]
  },
  {
   "cell_type": "markdown",
   "metadata": {
    "application/vnd.databricks.v1+cell": {
     "cellMetadata": {
      "byteLimit": 2048000,
      "rowLimit": 10000
     },
     "inputWidgets": {},
     "nuid": "3e7eddb2-00c4-4b60-8f82-c1f0d3c59fe6",
     "showTitle": false,
     "tableResultSettingsMap": {},
     "title": ""
    }
   },
   "source": [
    "#### business_attributes"
   ]
  },
  {
   "cell_type": "code",
   "execution_count": 0,
   "metadata": {
    "application/vnd.databricks.v1+cell": {
     "cellMetadata": {
      "byteLimit": 2048000,
      "rowLimit": 10000
     },
     "inputWidgets": {},
     "nuid": "cb619267-1030-492b-98bb-96cec8fa87a1",
     "showTitle": false,
     "tableResultSettingsMap": {},
     "title": ""
    }
   },
   "outputs": [
    {
     "output_type": "stream",
     "name": "stdout",
     "output_type": "stream",
     "text": [
      "=== DataFrame Overview ===\n\nNumber of rows: 150346\nNumber of columns: 40\n\nSchema:\nroot\n |-- business_id: string (nullable = true)\n |-- AcceptsInsurance: string (nullable = true)\n |-- AgesAllowed: string (nullable = true)\n |-- Alcohol: string (nullable = true)\n |-- Ambience: string (nullable = true)\n |-- BYOB: string (nullable = true)\n |-- BYOBCorkage: string (nullable = true)\n |-- BestNights: string (nullable = true)\n |-- BikeParking: string (nullable = true)\n |-- BusinessAcceptsBitcoin: string (nullable = true)\n |-- BusinessAcceptsCreditCards: string (nullable = true)\n |-- BusinessParking: string (nullable = true)\n |-- ByAppointmentOnly: string (nullable = true)\n |-- Caters: string (nullable = true)\n |-- CoatCheck: string (nullable = true)\n |-- Corkage: string (nullable = true)\n |-- DietaryRestrictions: string (nullable = true)\n |-- DogsAllowed: string (nullable = true)\n |-- DriveThru: string (nullable = true)\n |-- GoodForDancing: string (nullable = true)\n |-- GoodForKids: string (nullable = true)\n |-- GoodForMeal: string (nullable = true)\n |-- HairSpecializesIn: string (nullable = true)\n |-- HappyHour: string (nullable = true)\n |-- HasTV: string (nullable = true)\n |-- Music: string (nullable = true)\n |-- NoiseLevel: string (nullable = true)\n |-- Open24Hours: string (nullable = true)\n |-- OutdoorSeating: string (nullable = true)\n |-- RestaurantsAttire: string (nullable = true)\n |-- RestaurantsCounterService: string (nullable = true)\n |-- RestaurantsDelivery: string (nullable = true)\n |-- RestaurantsGoodForGroups: string (nullable = true)\n |-- RestaurantsPriceRange2: string (nullable = true)\n |-- RestaurantsReservations: string (nullable = true)\n |-- RestaurantsTableService: string (nullable = true)\n |-- RestaurantsTakeOut: string (nullable = true)\n |-- Smoking: string (nullable = true)\n |-- WheelchairAccessible: string (nullable = true)\n |-- WiFi: string (nullable = true)\n\n\nSample Data (First 5 Rows):\n+----------------------+----------------+-----------+-------+--------+----+-----------+----------+-----------+----------------------+--------------------------+-----------------------------------------------------------------------------------+-----------------+------+---------+-------+-------------------+-----------+---------+--------------+-----------+-----------+-----------------+---------+-----+-----+----------+-----------+--------------+-----------------+-------------------------+-------------------+------------------------+----------------------+-----------------------+-----------------------+------------------+-------+--------------------+-------+\n|business_id           |AcceptsInsurance|AgesAllowed|Alcohol|Ambience|BYOB|BYOBCorkage|BestNights|BikeParking|BusinessAcceptsBitcoin|BusinessAcceptsCreditCards|BusinessParking                                                                    |ByAppointmentOnly|Caters|CoatCheck|Corkage|DietaryRestrictions|DogsAllowed|DriveThru|GoodForDancing|GoodForKids|GoodForMeal|HairSpecializesIn|HappyHour|HasTV|Music|NoiseLevel|Open24Hours|OutdoorSeating|RestaurantsAttire|RestaurantsCounterService|RestaurantsDelivery|RestaurantsGoodForGroups|RestaurantsPriceRange2|RestaurantsReservations|RestaurantsTableService|RestaurantsTakeOut|Smoking|WheelchairAccessible|WiFi   |\n+----------------------+----------------+-----------+-------+--------+----+-----------+----------+-----------+----------------------+--------------------------+-----------------------------------------------------------------------------------+-----------------+------+---------+-------+-------------------+-----------+---------+--------------+-----------+-----------+-----------------+---------+-----+-----+----------+-----------+--------------+-----------------+-------------------------+-------------------+------------------------+----------------------+-----------------------+-----------------------+------------------+-------+--------------------+-------+\n|Pns2l4eNsfO8kk83dixA6A|NULL            |NULL       |NULL   |NULL    |NULL|NULL       |NULL      |NULL       |NULL                  |NULL                      |NULL                                                                               |True             |NULL  |NULL     |NULL   |NULL               |NULL       |NULL     |NULL          |NULL       |NULL       |NULL             |NULL     |NULL |NULL |NULL      |NULL       |NULL          |NULL             |NULL                     |NULL               |NULL                    |NULL                  |NULL                   |NULL                   |NULL              |NULL   |NULL                |NULL   |\n|mpf3x-BjTdTEA3yCZrAYPw|NULL            |NULL       |NULL   |NULL    |NULL|NULL       |NULL      |NULL       |NULL                  |True                      |NULL                                                                               |NULL             |NULL  |NULL     |NULL   |NULL               |NULL       |NULL     |NULL          |NULL       |NULL       |NULL             |NULL     |NULL |NULL |NULL      |NULL       |NULL          |NULL             |NULL                     |NULL               |NULL                    |NULL                  |NULL                   |NULL                   |NULL              |NULL   |NULL                |NULL   |\n|tUFrWirKiKi_TAnsVWINQQ|NULL            |NULL       |NULL   |NULL    |NULL|NULL       |NULL      |True       |NULL                  |True                      |{'garage': False, 'street': False, 'validated': False, 'lot': True, 'valet': False}|False            |False |False    |NULL   |NULL               |False      |NULL     |NULL          |NULL       |NULL       |NULL             |False    |False|NULL |NULL      |NULL       |False         |NULL             |NULL                     |False              |NULL                    |2                     |False                  |NULL                   |False             |NULL   |True                |u'no'  |\n|MTSW4McQd7CbVtyjqoe9mw|NULL            |NULL       |u'none'|NULL    |NULL|NULL       |NULL      |True       |NULL                  |False                     |{'garage': False, 'street': True, 'validated': False, 'lot': False, 'valet': False}|False            |True  |NULL     |NULL   |NULL               |NULL       |NULL     |NULL          |NULL       |NULL       |NULL             |NULL     |NULL |NULL |NULL      |NULL       |False         |NULL             |NULL                     |False              |NULL                    |1                     |NULL                   |NULL                   |True              |NULL   |NULL                |u'free'|\n|mWMc6_wTdE0EUBKIGXDVfA|NULL            |NULL       |NULL   |NULL    |NULL|NULL       |NULL      |True       |NULL                  |True                      |{'garage': None, 'street': None, 'validated': None, 'lot': True, 'valet': False}   |NULL             |False |NULL     |NULL   |NULL               |NULL       |NULL     |NULL          |True       |NULL       |NULL             |NULL     |NULL |NULL |NULL      |NULL       |NULL          |NULL             |NULL                     |NULL               |NULL                    |NULL                  |NULL                   |NULL                   |True              |NULL   |True                |NULL   |\n+----------------------+----------------+-----------+-------+--------+----+-----------+----------+-----------+----------------------+--------------------------+-----------------------------------------------------------------------------------+-----------------+------+---------+-------+-------------------+-----------+---------+--------------+-----------+-----------+-----------------+---------+-----+-----+----------+-----------+--------------+-----------------+-------------------------+-------------------+------------------------+----------------------+-----------------------+-----------------------+------------------+-------+--------------------+-------+\nonly showing top 5 rows\n\n"
     ]
    }
   ],
   "source": [
    "business_attributes_df = business_df.select(\"business_id\", \"attributes.*\")\n",
    "describe_dataframe(business_attributes_df)"
   ]
  },
  {
   "cell_type": "code",
   "execution_count": 0,
   "metadata": {
    "application/vnd.databricks.v1+cell": {
     "cellMetadata": {
      "byteLimit": 2048000,
      "rowLimit": 10000
     },
     "inputWidgets": {},
     "nuid": "8823ab30-f460-40ce-9023-4d5b55bf7953",
     "showTitle": false,
     "tableResultSettingsMap": {},
     "title": ""
    }
   },
   "outputs": [],
   "source": [
    "# Function to parse boolean-like attributes using built-in PySpark functions\n",
    "def convert_to_boolean(df, columns):\n",
    "    for col_name in columns:\n",
    "        df = df.withColumn(\n",
    "            col_name,\n",
    "            F.when(F.col(col_name) == 'True', True)\n",
    "            .when(F.col(col_name) == 'False', False)\n",
    "            .otherwise(None)\n",
    "        )\n",
    "    return df\n",
    "\n",
    "# List of boolean-like attributes\n",
    "bool_attrs = [\n",
    "    \"AcceptsInsurance\",\n",
    "    \"BYOB\",\n",
    "    \"BikeParking\",\n",
    "    \"BusinessAcceptsBitcoin\",\n",
    "    \"BusinessAcceptsCreditCards\",\n",
    "    \"ByAppointmentOnly\",\n",
    "    \"Caters\",\n",
    "    \"CoatCheck\",\n",
    "    \"Corkage\",\n",
    "    \"DogsAllowed\",\n",
    "    \"DriveThru\",\n",
    "    \"GoodForDancing\",\n",
    "    \"GoodForKids\",\n",
    "    \"HappyHour\",\n",
    "    \"HasTV\",\n",
    "    \"Open24Hours\",\n",
    "    \"OutdoorSeating\",\n",
    "    \"RestaurantsCounterService\",\n",
    "    \"RestaurantsDelivery\",\n",
    "    \"RestaurantsGoodForGroups\",\n",
    "    \"RestaurantsReservations\",\n",
    "    \"RestaurantsTableService\",\n",
    "    \"RestaurantsTakeOut\",\n",
    "    \"WheelchairAccessible\"\n",
    "]\n",
    "\n",
    "# Apply the transformation\n",
    "business_attributes_df = convert_to_boolean(business_attributes_df, bool_attrs)"
   ]
  },
  {
   "cell_type": "code",
   "execution_count": 0,
   "metadata": {
    "application/vnd.databricks.v1+cell": {
     "cellMetadata": {
      "byteLimit": 2048000,
      "rowLimit": 10000
     },
     "inputWidgets": {},
     "nuid": "59bb3ab0-6b84-4333-9703-2b75eb7a7f2d",
     "showTitle": false,
     "tableResultSettingsMap": {},
     "title": ""
    }
   },
   "outputs": [],
   "source": [
    "# Function to clean and standardize string attributes using PySpark functions\n",
    "def convert_to_cleaned_string(df, columns):\n",
    "    \"\"\"\n",
    "    Cleans and standardizes string attributes in a PySpark DataFrame.\n",
    "\n",
    "    Parameters:\n",
    "        df (DataFrame): Input PySpark DataFrame.\n",
    "        columns (list): List of column names to be cleaned.\n",
    "\n",
    "    Returns:\n",
    "        DataFrame: PySpark DataFrame with updated columns.\n",
    "    \"\"\"\n",
    "    for col_name in columns:\n",
    "        df = df.withColumn(\n",
    "            col_name,\n",
    "            F.when(F.col(col_name).isNull() | (F.col(col_name) == ''), None)  # Handle null or empty strings\n",
    "            .otherwise(F.lower(F.regexp_replace(F.regexp_replace(F.col(col_name), \"u'\", \"\"), \"'\", \"\")))  # Standardize strings\n",
    "        )\n",
    "    return df\n",
    "\n",
    "# List of string-like attributes\n",
    "str_attrs = [\n",
    "    \"AgesAllowed\", \n",
    "    \"Alcohol\",\n",
    "    \"BYOBCorkage\",\n",
    "    \"NoiseLevel\",\n",
    "    \"RestaurantsAttire\",\n",
    "    \"Smoking\",\n",
    "    \"WiFi\",\n",
    "]\n",
    "\n",
    "# Apply the function to your DataFrame\n",
    "business_attributes_df = convert_to_cleaned_string(business_attributes_df, str_attrs)"
   ]
  },
  {
   "cell_type": "code",
   "execution_count": 0,
   "metadata": {
    "application/vnd.databricks.v1+cell": {
     "cellMetadata": {
      "byteLimit": 2048000,
      "rowLimit": 10000
     },
     "inputWidgets": {},
     "nuid": "d9ae7d46-6f5b-4312-be66-6f070450bf42",
     "showTitle": false,
     "tableResultSettingsMap": {},
     "title": ""
    }
   },
   "outputs": [],
   "source": [
    "# Function to convert string-like integers to native integer type using PySpark functions\n",
    "def convert_to_integer(df, columns):\n",
    "    \"\"\"\n",
    "    Converts string-like integers (e.g., '1', '2') into native integer types in a PySpark DataFrame.\n",
    "\n",
    "    Parameters:\n",
    "        df (DataFrame): Input PySpark DataFrame.\n",
    "        columns (list): List of column names to be converted.\n",
    "\n",
    "    Returns:\n",
    "        DataFrame: PySpark DataFrame with updated columns.\n",
    "    \"\"\"\n",
    "    for col_name in columns:\n",
    "        df = df.withColumn(\n",
    "            col_name,\n",
    "            F.when(F.col(col_name).isNull() | (F.col(col_name) == 'None'), None)  # Handle null or 'None'\n",
    "            .otherwise(F.col(col_name).cast('int'))  # Cast valid values to integers\n",
    "        )\n",
    "    return df\n",
    "\n",
    "# List of integer-like attributes\n",
    "int_attrs = [\n",
    "    \"RestaurantsPriceRange2\",\n",
    "]\n",
    "\n",
    "# Apply the function to your DataFrame\n",
    "business_attributes_df = convert_to_integer(business_attributes_df, int_attrs)"
   ]
  },
  {
   "cell_type": "code",
   "execution_count": 0,
   "metadata": {
    "application/vnd.databricks.v1+cell": {
     "cellMetadata": {
      "byteLimit": 2048000,
      "rowLimit": 10000
     },
     "inputWidgets": {},
     "nuid": "4300c415-067d-4dfd-a228-7a413660d390",
     "showTitle": false,
     "tableResultSettingsMap": {},
     "title": ""
    }
   },
   "outputs": [],
   "source": [
    "def parse_boolean_dict(x):\n",
    "    # Convert dicts masked as strings to string:boolean format\n",
    "    if x is None or x == 'None' or x == '':\n",
    "        return None\n",
    "    return ast.literal_eval(x)\n",
    "\n",
    "parse_boolean_dict_udf = F.udf(parse_boolean_dict, T.MapType(T.StringType(), T.BooleanType()))\n",
    "\n",
    "bool_dict_attrs = [\n",
    "    \"Ambience\",\n",
    "    \"BestNights\",\n",
    "    \"BusinessParking\",\n",
    "    \"DietaryRestrictions\",\n",
    "    \"GoodForMeal\",\n",
    "    \"HairSpecializesIn\",\n",
    "    \"Music\"\n",
    "]\n",
    "\n",
    "for attr in bool_dict_attrs:\n",
    "    business_attributes_df = business_attributes_df.withColumn(attr, parse_boolean_dict_udf(attr))\n",
    "    # Get all keys of the MapType\n",
    "    key_rows = business_attributes_df.select(F.explode(attr)).select(\"key\").distinct().collect()\n",
    "    # Convert each key into column (with proper name)\n",
    "    exprs = [\"{}['{}'] as {}\".format(attr, row.key, attr+\"_\"+row.key.replace('-', '_')) for row in key_rows]\n",
    "    business_attributes_df = business_attributes_df.selectExpr(\"*\", *exprs).drop(attr)"
   ]
  },
  {
   "cell_type": "code",
   "execution_count": 0,
   "metadata": {
    "application/vnd.databricks.v1+cell": {
     "cellMetadata": {
      "byteLimit": 2048000,
      "rowLimit": 10000
     },
     "inputWidgets": {},
     "nuid": "2b8b365d-b11b-4046-80f3-144ad1f4f5a1",
     "showTitle": false,
     "tableResultSettingsMap": {},
     "title": ""
    }
   },
   "outputs": [
    {
     "output_type": "stream",
     "name": "stdout",
     "output_type": "stream",
     "text": [
      "=== DataFrame Overview ===\n\nNumber of rows: 150346\nNumber of columns: 82\n\nSchema:\nroot\n |-- business_id: string (nullable = true)\n |-- AcceptsInsurance: boolean (nullable = true)\n |-- AgesAllowed: string (nullable = true)\n |-- Alcohol: string (nullable = true)\n |-- BYOB: boolean (nullable = true)\n |-- BYOBCorkage: string (nullable = true)\n |-- BikeParking: boolean (nullable = true)\n |-- BusinessAcceptsBitcoin: boolean (nullable = true)\n |-- BusinessAcceptsCreditCards: boolean (nullable = true)\n |-- ByAppointmentOnly: boolean (nullable = true)\n |-- Caters: boolean (nullable = true)\n |-- CoatCheck: boolean (nullable = true)\n |-- Corkage: boolean (nullable = true)\n |-- DogsAllowed: boolean (nullable = true)\n |-- DriveThru: boolean (nullable = true)\n |-- GoodForDancing: boolean (nullable = true)\n |-- GoodForKids: boolean (nullable = true)\n |-- HappyHour: boolean (nullable = true)\n |-- HasTV: boolean (nullable = true)\n |-- NoiseLevel: string (nullable = true)\n |-- Open24Hours: boolean (nullable = true)\n |-- OutdoorSeating: boolean (nullable = true)\n |-- RestaurantsAttire: string (nullable = true)\n |-- RestaurantsCounterService: boolean (nullable = true)\n |-- RestaurantsDelivery: boolean (nullable = true)\n |-- RestaurantsGoodForGroups: boolean (nullable = true)\n |-- RestaurantsPriceRange2: integer (nullable = true)\n |-- RestaurantsReservations: boolean (nullable = true)\n |-- RestaurantsTableService: boolean (nullable = true)\n |-- RestaurantsTakeOut: boolean (nullable = true)\n |-- Smoking: string (nullable = true)\n |-- WheelchairAccessible: boolean (nullable = true)\n |-- WiFi: string (nullable = true)\n |-- Ambience_romantic: boolean (nullable = true)\n |-- Ambience_casual: boolean (nullable = true)\n |-- Ambience_trendy: boolean (nullable = true)\n |-- Ambience_intimate: boolean (nullable = true)\n |-- Ambience_hipster: boolean (nullable = true)\n |-- Ambience_upscale: boolean (nullable = true)\n |-- Ambience_divey: boolean (nullable = true)\n |-- Ambience_touristy: boolean (nullable = true)\n |-- Ambience_classy: boolean (nullable = true)\n |-- BestNights_sunday: boolean (nullable = true)\n |-- BestNights_thursday: boolean (nullable = true)\n |-- BestNights_monday: boolean (nullable = true)\n |-- BestNights_wednesday: boolean (nullable = true)\n |-- BestNights_saturday: boolean (nullable = true)\n |-- BestNights_friday: boolean (nullable = true)\n |-- BestNights_tuesday: boolean (nullable = true)\n |-- BusinessParking_valet: boolean (nullable = true)\n |-- BusinessParking_lot: boolean (nullable = true)\n |-- BusinessParking_validated: boolean (nullable = true)\n |-- BusinessParking_garage: boolean (nullable = true)\n |-- BusinessParking_street: boolean (nullable = true)\n |-- DietaryRestrictions_kosher: boolean (nullable = true)\n |-- DietaryRestrictions_dairy_free: boolean (nullable = true)\n |-- DietaryRestrictions_vegan: boolean (nullable = true)\n |-- DietaryRestrictions_vegetarian: boolean (nullable = true)\n |-- DietaryRestrictions_gluten_free: boolean (nullable = true)\n |-- DietaryRestrictions_soy_free: boolean (nullable = true)\n |-- DietaryRestrictions_halal: boolean (nullable = true)\n |-- GoodForMeal_lunch: boolean (nullable = true)\n |-- GoodForMeal_brunch: boolean (nullable = true)\n |-- GoodForMeal_dinner: boolean (nullable = true)\n |-- GoodForMeal_latenight: boolean (nullable = true)\n |-- GoodForMeal_dessert: boolean (nullable = true)\n |-- GoodForMeal_breakfast: boolean (nullable = true)\n |-- HairSpecializesIn_curly: boolean (nullable = true)\n |-- HairSpecializesIn_asian: boolean (nullable = true)\n |-- HairSpecializesIn_perms: boolean (nullable = true)\n |-- HairSpecializesIn_africanamerican: boolean (nullable = true)\n |-- HairSpecializesIn_straightperms: boolean (nullable = true)\n |-- HairSpecializesIn_kids: boolean (nullable = true)\n |-- HairSpecializesIn_coloring: boolean (nullable = true)\n |-- HairSpecializesIn_extensions: boolean (nullable = true)\n |-- Music_no_music: boolean (nullable = true)\n |-- Music_dj: boolean (nullable = true)\n |-- Music_live: boolean (nullable = true)\n |-- Music_karaoke: boolean (nullable = true)\n |-- Music_video: boolean (nullable = true)\n |-- Music_background_music: boolean (nullable = true)\n |-- Music_jukebox: boolean (nullable = true)\n\n\nSample Data (First 5 Rows):\n+----------------------+----------------+-----------+-------+----+-----------+-----------+----------------------+--------------------------+-----------------+------+---------+-------+-----------+---------+--------------+-----------+---------+-----+----------+-----------+--------------+-----------------+-------------------------+-------------------+------------------------+----------------------+-----------------------+-----------------------+------------------+-------+--------------------+----+-----------------+---------------+---------------+-----------------+----------------+----------------+--------------+-----------------+---------------+-----------------+-------------------+-----------------+--------------------+-------------------+-----------------+------------------+---------------------+-------------------+-------------------------+----------------------+----------------------+--------------------------+------------------------------+-------------------------+------------------------------+-------------------------------+----------------------------+-------------------------+-----------------+------------------+------------------+---------------------+-------------------+---------------------+-----------------------+-----------------------+-----------------------+---------------------------------+-------------------------------+----------------------+--------------------------+----------------------------+--------------+--------+----------+-------------+-----------+----------------------+-------------+\n|business_id           |AcceptsInsurance|AgesAllowed|Alcohol|BYOB|BYOBCorkage|BikeParking|BusinessAcceptsBitcoin|BusinessAcceptsCreditCards|ByAppointmentOnly|Caters|CoatCheck|Corkage|DogsAllowed|DriveThru|GoodForDancing|GoodForKids|HappyHour|HasTV|NoiseLevel|Open24Hours|OutdoorSeating|RestaurantsAttire|RestaurantsCounterService|RestaurantsDelivery|RestaurantsGoodForGroups|RestaurantsPriceRange2|RestaurantsReservations|RestaurantsTableService|RestaurantsTakeOut|Smoking|WheelchairAccessible|WiFi|Ambience_romantic|Ambience_casual|Ambience_trendy|Ambience_intimate|Ambience_hipster|Ambience_upscale|Ambience_divey|Ambience_touristy|Ambience_classy|BestNights_sunday|BestNights_thursday|BestNights_monday|BestNights_wednesday|BestNights_saturday|BestNights_friday|BestNights_tuesday|BusinessParking_valet|BusinessParking_lot|BusinessParking_validated|BusinessParking_garage|BusinessParking_street|DietaryRestrictions_kosher|DietaryRestrictions_dairy_free|DietaryRestrictions_vegan|DietaryRestrictions_vegetarian|DietaryRestrictions_gluten_free|DietaryRestrictions_soy_free|DietaryRestrictions_halal|GoodForMeal_lunch|GoodForMeal_brunch|GoodForMeal_dinner|GoodForMeal_latenight|GoodForMeal_dessert|GoodForMeal_breakfast|HairSpecializesIn_curly|HairSpecializesIn_asian|HairSpecializesIn_perms|HairSpecializesIn_africanamerican|HairSpecializesIn_straightperms|HairSpecializesIn_kids|HairSpecializesIn_coloring|HairSpecializesIn_extensions|Music_no_music|Music_dj|Music_live|Music_karaoke|Music_video|Music_background_music|Music_jukebox|\n+----------------------+----------------+-----------+-------+----+-----------+-----------+----------------------+--------------------------+-----------------+------+---------+-------+-----------+---------+--------------+-----------+---------+-----+----------+-----------+--------------+-----------------+-------------------------+-------------------+------------------------+----------------------+-----------------------+-----------------------+------------------+-------+--------------------+----+-----------------+---------------+---------------+-----------------+----------------+----------------+--------------+-----------------+---------------+-----------------+-------------------+-----------------+--------------------+-------------------+-----------------+------------------+---------------------+-------------------+-------------------------+----------------------+----------------------+--------------------------+------------------------------+-------------------------+------------------------------+-------------------------------+----------------------------+-------------------------+-----------------+------------------+------------------+---------------------+-------------------+---------------------+-----------------------+-----------------------+-----------------------+---------------------------------+-------------------------------+----------------------+--------------------------+----------------------------+--------------+--------+----------+-------------+-----------+----------------------+-------------+\n|Pns2l4eNsfO8kk83dixA6A|NULL            |NULL       |NULL   |NULL|NULL       |NULL       |NULL                  |NULL                      |true             |NULL  |NULL     |NULL   |NULL       |NULL     |NULL          |NULL       |NULL     |NULL |NULL      |NULL       |NULL          |NULL             |NULL                     |NULL               |NULL                    |NULL                  |NULL                   |NULL                   |NULL              |NULL   |NULL                |NULL|NULL             |NULL           |NULL           |NULL             |NULL            |NULL            |NULL          |NULL             |NULL           |NULL             |NULL               |NULL             |NULL                |NULL               |NULL             |NULL              |NULL                 |NULL               |NULL                     |NULL                  |NULL                  |NULL                      |NULL                          |NULL                     |NULL                          |NULL                           |NULL                        |NULL                     |NULL             |NULL              |NULL              |NULL                 |NULL               |NULL                 |NULL                   |NULL                   |NULL                   |NULL                             |NULL                           |NULL                  |NULL                      |NULL                        |NULL          |NULL    |NULL      |NULL         |NULL       |NULL                  |NULL         |\n|mpf3x-BjTdTEA3yCZrAYPw|NULL            |NULL       |NULL   |NULL|NULL       |NULL       |NULL                  |true                      |NULL             |NULL  |NULL     |NULL   |NULL       |NULL     |NULL          |NULL       |NULL     |NULL |NULL      |NULL       |NULL          |NULL             |NULL                     |NULL               |NULL                    |NULL                  |NULL                   |NULL                   |NULL              |NULL   |NULL                |NULL|NULL             |NULL           |NULL           |NULL             |NULL            |NULL            |NULL          |NULL             |NULL           |NULL             |NULL               |NULL             |NULL                |NULL               |NULL             |NULL              |NULL                 |NULL               |NULL                     |NULL                  |NULL                  |NULL                      |NULL                          |NULL                     |NULL                          |NULL                           |NULL                        |NULL                     |NULL             |NULL              |NULL              |NULL                 |NULL               |NULL                 |NULL                   |NULL                   |NULL                   |NULL                             |NULL                           |NULL                  |NULL                      |NULL                        |NULL          |NULL    |NULL      |NULL         |NULL       |NULL                  |NULL         |\n|tUFrWirKiKi_TAnsVWINQQ|NULL            |NULL       |NULL   |NULL|NULL       |true       |NULL                  |true                      |false            |false |false    |NULL   |false      |NULL     |NULL          |NULL       |false    |false|NULL      |NULL       |false         |NULL             |NULL                     |false              |NULL                    |2                     |false                  |NULL                   |false             |NULL   |true                |no  |NULL             |NULL           |NULL           |NULL             |NULL            |NULL            |NULL          |NULL             |NULL           |NULL             |NULL               |NULL             |NULL                |NULL               |NULL             |NULL              |false                |true               |false                    |false                 |false                 |NULL                      |NULL                          |NULL                     |NULL                          |NULL                           |NULL                        |NULL                     |NULL             |NULL              |NULL              |NULL                 |NULL               |NULL                 |NULL                   |NULL                   |NULL                   |NULL                             |NULL                           |NULL                  |NULL                      |NULL                        |NULL          |NULL    |NULL      |NULL         |NULL       |NULL                  |NULL         |\n|MTSW4McQd7CbVtyjqoe9mw|NULL            |NULL       |none   |NULL|NULL       |true       |NULL                  |false                     |false            |true  |NULL     |NULL   |NULL       |NULL     |NULL          |NULL       |NULL     |NULL |NULL      |NULL       |false         |NULL             |NULL                     |false              |NULL                    |1                     |NULL                   |NULL                   |true              |NULL   |NULL                |free|NULL             |NULL           |NULL           |NULL             |NULL            |NULL            |NULL          |NULL             |NULL           |NULL             |NULL               |NULL             |NULL                |NULL               |NULL             |NULL              |false                |false              |false                    |false                 |true                  |NULL                      |NULL                          |NULL                     |NULL                          |NULL                           |NULL                        |NULL                     |NULL             |NULL              |NULL              |NULL                 |NULL               |NULL                 |NULL                   |NULL                   |NULL                   |NULL                             |NULL                           |NULL                  |NULL                      |NULL                        |NULL          |NULL    |NULL      |NULL         |NULL       |NULL                  |NULL         |\n|mWMc6_wTdE0EUBKIGXDVfA|NULL            |NULL       |NULL   |NULL|NULL       |true       |NULL                  |true                      |NULL             |false |NULL     |NULL   |NULL       |NULL     |NULL          |true       |NULL     |NULL |NULL      |NULL       |NULL          |NULL             |NULL                     |NULL               |NULL                    |NULL                  |NULL                   |NULL                   |true              |NULL   |true                |NULL|NULL             |NULL           |NULL           |NULL             |NULL            |NULL            |NULL          |NULL             |NULL           |NULL             |NULL               |NULL             |NULL                |NULL               |NULL             |NULL              |false                |true               |NULL                     |NULL                  |NULL                  |NULL                      |NULL                          |NULL                     |NULL                          |NULL                           |NULL                        |NULL                     |NULL             |NULL              |NULL              |NULL                 |NULL               |NULL                 |NULL                   |NULL                   |NULL                   |NULL                             |NULL                           |NULL                  |NULL                      |NULL                        |NULL          |NULL    |NULL      |NULL         |NULL       |NULL                  |NULL         |\n+----------------------+----------------+-----------+-------+----+-----------+-----------+----------------------+--------------------------+-----------------+------+---------+-------+-----------+---------+--------------+-----------+---------+-----+----------+-----------+--------------+-----------------+-------------------------+-------------------+------------------------+----------------------+-----------------------+-----------------------+------------------+-------+--------------------+----+-----------------+---------------+---------------+-----------------+----------------+----------------+--------------+-----------------+---------------+-----------------+-------------------+-----------------+--------------------+-------------------+-----------------+------------------+---------------------+-------------------+-------------------------+----------------------+----------------------+--------------------------+------------------------------+-------------------------+------------------------------+-------------------------------+----------------------------+-------------------------+-----------------+------------------+------------------+---------------------+-------------------+---------------------+-----------------------+-----------------------+-----------------------+---------------------------------+-------------------------------+----------------------+--------------------------+----------------------------+--------------+--------+----------+-------------+-----------+----------------------+-------------+\nonly showing top 5 rows\n\n"
     ]
    }
   ],
   "source": [
    "describe_dataframe(business_attributes_df)"
   ]
  },
  {
   "cell_type": "code",
   "execution_count": 0,
   "metadata": {
    "application/vnd.databricks.v1+cell": {
     "cellMetadata": {
      "byteLimit": 2048000,
      "rowLimit": 10000
     },
     "inputWidgets": {},
     "nuid": "d1c4cb5a-de39-4b14-aeec-e3f31dcc894e",
     "showTitle": false,
     "tableResultSettingsMap": {},
     "title": ""
    }
   },
   "outputs": [
    {
     "output_type": "stream",
     "name": "stdout",
     "output_type": "stream",
     "text": [
      "Successfully written Parquet file to abfss://silver@adlsyelpdata.dfs.core.windows.net/business_attributes.parquet\n"
     ]
    }
   ],
   "source": [
    "output_path = \"abfss://silver@adlsyelpdata.dfs.core.windows.net/business_attributes.parquet\"\n",
    "write_parquet_to_adls(business_attributes_df, output_path)"
   ]
  },
  {
   "cell_type": "markdown",
   "metadata": {
    "application/vnd.databricks.v1+cell": {
     "cellMetadata": {
      "byteLimit": 2048000,
      "rowLimit": 10000
     },
     "inputWidgets": {},
     "nuid": "38b73c9d-e569-4b66-972f-719e46f7bff1",
     "showTitle": false,
     "tableResultSettingsMap": {},
     "title": ""
    }
   },
   "source": [
    "#### city_demographics.csv"
   ]
  },
  {
   "cell_type": "code",
   "execution_count": 0,
   "metadata": {
    "application/vnd.databricks.v1+cell": {
     "cellMetadata": {
      "byteLimit": 2048000,
      "rowLimit": 10000
     },
     "inputWidgets": {},
     "nuid": "902d259f-5676-44c9-b79c-331d8d182877",
     "showTitle": false,
     "tableResultSettingsMap": {},
     "title": ""
    }
   },
   "outputs": [
    {
     "output_type": "stream",
     "name": "stdout",
     "output_type": "stream",
     "text": [
      "Successfully loaded file: abfss://bronze@adlsyelpdata.dfs.core.windows.net/us_city/us-cities-demographics.json as .JSON\n=== DataFrame Overview ===\n\nNumber of rows: 2891\nNumber of columns: 12\n\nSchema:\nroot\n |-- average_household_size: double (nullable = true)\n |-- city: string (nullable = true)\n |-- count: long (nullable = true)\n |-- female_population: long (nullable = true)\n |-- foreign_born: long (nullable = true)\n |-- male_population: long (nullable = true)\n |-- median_age: double (nullable = true)\n |-- number_of_veterans: long (nullable = true)\n |-- race: string (nullable = true)\n |-- state: string (nullable = true)\n |-- state_code: string (nullable = true)\n |-- total_population: long (nullable = true)\n\n\nSample Data (First 5 Rows):\n+----------------------+---------+------+-----------------+------------+---------------+----------+------------------+---------------------------------+----------+----------+----------------+\n|average_household_size|city     |count |female_population|foreign_born|male_population|median_age|number_of_veterans|race                             |state     |state_code|total_population|\n+----------------------+---------+------+-----------------+------------+---------------+----------+------------------+---------------------------------+----------+----------+----------------+\n|2.48                  |Frederick|49181 |36336            |14211       |33146          |36.1      |3870              |White                            |Maryland  |MD        |69482           |\n|2.9                   |Vacaville|18023 |46703            |10577       |50091          |35.8      |9064              |Black or African-American        |California|CA        |96794           |\n|3.62                  |Chino    |4790  |34610            |18666       |50989          |36.5      |4186              |American Indian and Alaska Native|California|CA        |85599           |\n|3.45                  |Anaheim  |201593|171135           |137133      |179603         |33.6      |9796              |Hispanic or Latino               |California|CA        |350738          |\n|3.66                  |Laredo   |246442|131484           |68427       |124305         |28.8      |4921              |White                            |Texas     |TX        |255789          |\n+----------------------+---------+------+-----------------+------------+---------------+----------+------------------+---------------------------------+----------+----------+----------------+\nonly showing top 5 rows\n\n"
     ]
    }
   ],
   "source": [
    "city_demograph_df = read_file_from_adls(city_demograph_path)\n",
    "describe_dataframe(city_demograph_df)"
   ]
  },
  {
   "cell_type": "code",
   "execution_count": 0,
   "metadata": {
    "application/vnd.databricks.v1+cell": {
     "cellMetadata": {
      "byteLimit": 2048000,
      "rowLimit": 10000
     },
     "inputWidgets": {},
     "nuid": "04e10763-ea5d-4fdb-af1d-262d3bd1c47d",
     "showTitle": false,
     "tableResultSettingsMap": {},
     "title": ""
    }
   },
   "outputs": [],
   "source": [
    "# Flatten the `fields` struct\n",
    "city_demograph_df = city_demograph_df.select(*city_demograph_df.columns)\n",
    "\n",
    "# Prepare the `race` column\n",
    "city_demograph_df = city_demograph_df.withColumn(\n",
    "    \"race\",\n",
    "    F.regexp_replace(F.lower(F.col(\"race\")), \"[\\\\s-]\", \"_\")  # Replace spaces and hyphens with underscores\n",
    ")\n",
    "\n",
    "# Group by all columns except `race` and `count` and pivot `race` into columns\n",
    "group_columns = [col for col in city_demograph_df.columns if col not in [\"race\", \"count\"]]\n",
    "city_demograph_df = city_demograph_df.groupby(*group_columns).pivot(\"race\").max(\"count\")\n"
   ]
  },
  {
   "cell_type": "code",
   "execution_count": 0,
   "metadata": {
    "application/vnd.databricks.v1+cell": {
     "cellMetadata": {
      "byteLimit": 2048000,
      "rowLimit": 10000
     },
     "inputWidgets": {},
     "nuid": "2359a6ec-9986-4444-b7be-4d26164354fe",
     "showTitle": false,
     "tableResultSettingsMap": {},
     "title": ""
    }
   },
   "outputs": [
    {
     "output_type": "stream",
     "name": "stdout",
     "output_type": "stream",
     "text": [
      "=== DataFrame Overview ===\n\nNumber of rows: 596\nNumber of columns: 15\n\nSchema:\nroot\n |-- average_household_size: double (nullable = true)\n |-- city: string (nullable = true)\n |-- female_population: long (nullable = true)\n |-- foreign_born: long (nullable = true)\n |-- male_population: long (nullable = true)\n |-- median_age: double (nullable = true)\n |-- number_of_veterans: long (nullable = true)\n |-- state: string (nullable = true)\n |-- state_code: string (nullable = true)\n |-- total_population: long (nullable = true)\n |-- american_indian_and_alaska_native: long (nullable = true)\n |-- asian: long (nullable = true)\n |-- black_or_african_american: long (nullable = true)\n |-- hispanic_or_latino: long (nullable = true)\n |-- white: long (nullable = true)\n\n\nSample Data (First 5 Rows):\n+----------------------+----------------+-----------------+------------+---------------+----------+------------------+--------------+----------+----------------+---------------------------------+-----+-------------------------+------------------+------+\n|average_household_size|city            |female_population|foreign_born|male_population|median_age|number_of_veterans|state         |state_code|total_population|american_indian_and_alaska_native|asian|black_or_african_american|hispanic_or_latino|white |\n+----------------------+----------------+-----------------+------------+---------------+----------+------------------+--------------+----------+----------------+---------------------------------+-----+-------------------------+------------------+------+\n|3.66                  |Garden Grove    |88605            |80677       |86779          |37.8      |4316              |California    |CA        |175384          |1713                             |71737|1840                     |66038             |66782 |\n|2.26                  |Minneapolis     |204388           |70769       |206547         |32.4      |15217             |Minnesota     |MN        |410935          |9238                             |33854|89996                    |39981             |277862|\n|3.34                  |Elk Grove       |86833            |38693       |80057          |36.1      |7762              |California    |CA        |166890          |2020                             |59424|20185                    |28781             |86909 |\n|2.52                  |Alameda         |40867            |18841       |37747          |41.4      |4504              |California    |CA        |78614           |1329                             |27984|7364                     |8265              |44232 |\n|2.8200000000000003    |North Charleston|55315            |8789        |56549          |30.7      |9651              |South Carolina|SC        |111864          |1042                             |4181 |56734                    |12975             |48956 |\n+----------------------+----------------+-----------------+------------+---------------+----------+------------------+--------------+----------+----------------+---------------------------------+-----+-------------------------+------------------+------+\nonly showing top 5 rows\n\n"
     ]
    }
   ],
   "source": [
    "describe_dataframe(city_demograph_df)"
   ]
  },
  {
   "cell_type": "code",
   "execution_count": 0,
   "metadata": {
    "application/vnd.databricks.v1+cell": {
     "cellMetadata": {
      "byteLimit": 2048000,
      "rowLimit": 10000
     },
     "inputWidgets": {},
     "nuid": "5eaac2ca-d24a-47b9-8fea-851e86024214",
     "showTitle": false,
     "tableResultSettingsMap": {},
     "title": ""
    }
   },
   "outputs": [],
   "source": [
    "# Select and prepare city-state data from business_df\n",
    "cities_df = (\n",
    "    business_df\n",
    "    .selectExpr(\"city\", \"state as state_code\")\n",
    "    .filter(F.col(\"city\").isNotNull() & F.col(\"state_code\").isNotNull())  # Filter null values\n",
    "    .distinct()  # Ensure unique city-state pairs\n",
    ")\n",
    "\n",
    "# Join with demographics data\n",
    "cities_df = (\n",
    "    cities_df\n",
    "    .join(city_demograph_df, [\"city\", \"state_code\"], how=\"left\")  # Left join with demographics data\n",
    "    .withColumn(\"city_id\", F.monotonically_increasing_id())  # Add unique city identifier\n",
    ")"
   ]
  },
  {
   "cell_type": "code",
   "execution_count": 0,
   "metadata": {
    "application/vnd.databricks.v1+cell": {
     "cellMetadata": {
      "byteLimit": 2048000,
      "rowLimit": 10000
     },
     "inputWidgets": {},
     "nuid": "f5fe0947-5e62-4ce9-aedd-12f874112ee0",
     "showTitle": false,
     "tableResultSettingsMap": {},
     "title": ""
    }
   },
   "outputs": [
    {
     "output_type": "stream",
     "name": "stdout",
     "output_type": "stream",
     "text": [
      "=== DataFrame Overview ===\n\nNumber of rows: 1467\nNumber of columns: 16\n\nSchema:\nroot\n |-- city: string (nullable = true)\n |-- state_code: string (nullable = true)\n |-- average_household_size: double (nullable = true)\n |-- female_population: long (nullable = true)\n |-- foreign_born: long (nullable = true)\n |-- male_population: long (nullable = true)\n |-- median_age: double (nullable = true)\n |-- number_of_veterans: long (nullable = true)\n |-- state: string (nullable = true)\n |-- total_population: long (nullable = true)\n |-- american_indian_and_alaska_native: long (nullable = true)\n |-- asian: long (nullable = true)\n |-- black_or_african_american: long (nullable = true)\n |-- hispanic_or_latino: long (nullable = true)\n |-- white: long (nullable = true)\n |-- city_id: long (nullable = false)\n\n\nSample Data (First 5 Rows):\n+------------+----------+----------------------+-----------------+------------+---------------+----------+------------------+-----+----------------+---------------------------------+-----+-------------------------+------------------+-----+-------+\n|city        |state_code|average_household_size|female_population|foreign_born|male_population|median_age|number_of_veterans|state|total_population|american_indian_and_alaska_native|asian|black_or_african_american|hispanic_or_latino|white|city_id|\n+------------+----------+----------------------+-----------------+------------+---------------+----------+------------------+-----+----------------+---------------------------------+-----+-------------------------+------------------+-----+-------+\n|Belle Chasse|LA        |NULL                  |NULL             |NULL        |NULL           |NULL      |NULL              |NULL |NULL            |NULL                             |NULL |NULL                     |NULL              |NULL |0      |\n|Feasterville|PA        |NULL                  |NULL             |NULL        |NULL           |NULL      |NULL              |NULL |NULL            |NULL                             |NULL |NULL                     |NULL              |NULL |1      |\n|Erial       |NJ        |NULL                  |NULL             |NULL        |NULL           |NULL      |NULL              |NULL |NULL            |NULL                             |NULL |NULL                     |NULL              |NULL |2      |\n|Edwardsville|IL        |NULL                  |NULL             |NULL        |NULL           |NULL      |NULL              |NULL |NULL            |NULL                             |NULL |NULL                     |NULL              |NULL |3      |\n|Ruskin      |FL        |NULL                  |NULL             |NULL        |NULL           |NULL      |NULL              |NULL |NULL            |NULL                             |NULL |NULL                     |NULL              |NULL |4      |\n+------------+----------+----------------------+-----------------+------------+---------------+----------+------------------+-----+----------------+---------------------------------+-----+-------------------------+------------------+-----+-------+\nonly showing top 5 rows\n\n"
     ]
    }
   ],
   "source": [
    "describe_dataframe(cities_df)"
   ]
  },
  {
   "cell_type": "code",
   "execution_count": 0,
   "metadata": {
    "application/vnd.databricks.v1+cell": {
     "cellMetadata": {
      "byteLimit": 2048000,
      "rowLimit": 10000
     },
     "inputWidgets": {},
     "nuid": "6af91c32-d404-41dd-8f3a-91892cc4cd18",
     "showTitle": false,
     "tableResultSettingsMap": {},
     "title": ""
    }
   },
   "outputs": [
    {
     "output_type": "stream",
     "name": "stdout",
     "output_type": "stream",
     "text": [
      "Successfully written Parquet file to abfss://silver@adlsyelpdata.dfs.core.windows.net/cities.parquet\n"
     ]
    }
   ],
   "source": [
    "output_path = \"abfss://silver@adlsyelpdata.dfs.core.windows.net/cities.parquet\"\n",
    "write_parquet_to_adls(cities_df, output_path)"
   ]
  },
  {
   "cell_type": "markdown",
   "metadata": {
    "application/vnd.databricks.v1+cell": {
     "cellMetadata": {
      "byteLimit": 2048000,
      "rowLimit": 10000
     },
     "inputWidgets": {},
     "nuid": "ce3dc4f8-014f-4486-a3b2-561babfaf5fc",
     "showTitle": false,
     "tableResultSettingsMap": {},
     "title": ""
    }
   },
   "source": [
    "#### addresses\n",
    "Pull address information from business.json, but instead of city take newly created city_id."
   ]
  },
  {
   "cell_type": "code",
   "execution_count": 0,
   "metadata": {
    "application/vnd.databricks.v1+cell": {
     "cellMetadata": {
      "byteLimit": 2048000,
      "rowLimit": 10000
     },
     "inputWidgets": {},
     "nuid": "96fd4e9d-d3a9-4663-9656-02570674178f",
     "showTitle": false,
     "tableResultSettingsMap": {},
     "title": ""
    }
   },
   "outputs": [],
   "source": [
    "addresses_df = (\n",
    "    business_df\n",
    "    .selectExpr(\"address\", \"latitude\", \"longitude\", \"postal_code\", \"city\", \"state as state_code\")\n",
    "    .join(cities_df.select(\"city\", \"state_code\", \"city_id\"), [\"city\", \"state_code\"], how='left')\n",
    "    .drop(\"city\", \"state_code\")\n",
    "    .distinct()\n",
    "    .withColumn(\"address_id\", F.row_number().over(Window.orderBy(\"city_id\", \"address\")))\n",
    ")"
   ]
  },
  {
   "cell_type": "code",
   "execution_count": 0,
   "metadata": {
    "application/vnd.databricks.v1+cell": {
     "cellMetadata": {
      "byteLimit": 2048000,
      "rowLimit": 10000
     },
     "inputWidgets": {},
     "nuid": "ca412841-18ed-4ddd-8218-605742514f76",
     "showTitle": false,
     "tableResultSettingsMap": {},
     "title": ""
    }
   },
   "outputs": [
    {
     "output_type": "stream",
     "name": "stdout",
     "output_type": "stream",
     "text": [
      "+-------+--------+---------+-----------+-------+----------+\n|address|latitude|longitude|postal_code|city_id|address_id|\n+-------+--------+---------+-----------+-------+----------+\n+-------+--------+---------+-----------+-------+----------+\n\n"
     ]
    }
   ],
   "source": [
    "addresses_df.filter(F.col(\"city_id\").isNull()).show()"
   ]
  },
  {
   "cell_type": "code",
   "execution_count": 0,
   "metadata": {
    "application/vnd.databricks.v1+cell": {
     "cellMetadata": {
      "byteLimit": 2048000,
      "rowLimit": 10000
     },
     "inputWidgets": {},
     "nuid": "9d779512-752c-4f6d-826a-6a2b3f1f2950",
     "showTitle": false,
     "tableResultSettingsMap": {},
     "title": ""
    }
   },
   "outputs": [
    {
     "output_type": "stream",
     "name": "stdout",
     "output_type": "stream",
     "text": [
      "Successfully written Parquet file to abfss://silver@adlsyelpdata.dfs.core.windows.net/addresses.parquet\n"
     ]
    }
   ],
   "source": [
    "output_path = \"abfss://silver@adlsyelpdata.dfs.core.windows.net/addresses.parquet\"\n",
    "write_parquet_to_adls(addresses_df, output_path)"
   ]
  },
  {
   "cell_type": "markdown",
   "metadata": {
    "application/vnd.databricks.v1+cell": {
     "cellMetadata": {
      "byteLimit": 2048000,
      "rowLimit": 10000
     },
     "inputWidgets": {},
     "nuid": "2da46fc9-ad2c-42f3-85b4-e1bec600e5da",
     "showTitle": false,
     "tableResultSettingsMap": {},
     "title": ""
    }
   },
   "source": [
    "#### business categories"
   ]
  },
  {
   "cell_type": "code",
   "execution_count": 0,
   "metadata": {
    "application/vnd.databricks.v1+cell": {
     "cellMetadata": {
      "byteLimit": 2048000,
      "rowLimit": 10000
     },
     "inputWidgets": {},
     "nuid": "e9212997-de07-48fa-a234-8427ce83f20e",
     "showTitle": false,
     "tableResultSettingsMap": {},
     "title": ""
    }
   },
   "outputs": [],
   "source": [
    "# Parse and normalize categories\n",
    "business_categories_df = business_df.select(\n",
    "    \"business_id\",\n",
    "    F.split(\n",
    "        F.regexp_replace(\"categories\", \"Wills, Trusts, & Probates\", \"Wills_Trusts_Probates\"),\n",
    "        r\",\\s*\"\n",
    "    ).alias(\"categories\")\n",
    ")\n",
    "\n",
    "# Create unique categories with IDs\n",
    "categories_df = business_categories_df.select(\n",
    "    F.explode(\"categories\").alias(\"category\")\n",
    ").dropDuplicates()\n",
    "\n",
    "categories_df = categories_df.withColumn(\n",
    "    \"category_id\", F.row_number().over(Window.orderBy(\"category\"))\n",
    ")\n",
    "\n",
    "# Create business-category mapping\n",
    "business_categories_df = business_categories_df.select(\n",
    "    \"business_id\", F.explode(\"categories\").alias(\"category\")\n",
    ").join(categories_df, \"category\", how=\"left\").drop(\"category\")\n"
   ]
  },
  {
   "cell_type": "code",
   "execution_count": 0,
   "metadata": {
    "application/vnd.databricks.v1+cell": {
     "cellMetadata": {
      "byteLimit": 2048000,
      "rowLimit": 10000
     },
     "inputWidgets": {},
     "nuid": "d7d03ed2-ca68-4ad0-96d8-635999100651",
     "showTitle": false,
     "tableResultSettingsMap": {},
     "title": ""
    }
   },
   "outputs": [
    {
     "output_type": "stream",
     "name": "stdout",
     "output_type": "stream",
     "text": [
      "=== DataFrame Overview ===\n\nNumber of rows: 668516\nNumber of columns: 2\n\nSchema:\nroot\n |-- business_id: string (nullable = true)\n |-- category_id: integer (nullable = true)\n\n\nSample Data (First 5 Rows):\n+----------------------+-----------+\n|business_id           |category_id|\n+----------------------+-----------+\n|Pns2l4eNsfO8kk83dixA6A|359        |\n|Pns2l4eNsfO8kk83dixA6A|1200       |\n|Pns2l4eNsfO8kk83dixA6A|798        |\n|Pns2l4eNsfO8kk83dixA6A|8          |\n|Pns2l4eNsfO8kk83dixA6A|551        |\n+----------------------+-----------+\nonly showing top 5 rows\n\n"
     ]
    }
   ],
   "source": [
    "describe_dataframe(business_categories_df)"
   ]
  },
  {
   "cell_type": "code",
   "execution_count": 0,
   "metadata": {
    "application/vnd.databricks.v1+cell": {
     "cellMetadata": {
      "byteLimit": 2048000,
      "rowLimit": 10000
     },
     "inputWidgets": {},
     "nuid": "86e4c96e-296d-4583-b56a-96091b47ef1b",
     "showTitle": false,
     "tableResultSettingsMap": {},
     "title": ""
    }
   },
   "outputs": [
    {
     "output_type": "stream",
     "name": "stdout",
     "output_type": "stream",
     "text": [
      "Successfully written Parquet file to abfss://silver@adlsyelpdata.dfs.core.windows.net/business_categories.parquet\n"
     ]
    }
   ],
   "source": [
    "output_path = \"abfss://silver@adlsyelpdata.dfs.core.windows.net/business_categories.parquet\"\n",
    "write_parquet_to_adls(business_categories_df, output_path)"
   ]
  },
  {
   "cell_type": "markdown",
   "metadata": {
    "application/vnd.databricks.v1+cell": {
     "cellMetadata": {
      "byteLimit": 2048000,
      "rowLimit": 10000
     },
     "inputWidgets": {},
     "nuid": "a3634f1c-d1d7-4632-85ba-329a2ae1aac0",
     "showTitle": false,
     "tableResultSettingsMap": {},
     "title": ""
    }
   },
   "source": [
    "#### business hours"
   ]
  },
  {
   "cell_type": "code",
   "execution_count": 0,
   "metadata": {
    "application/vnd.databricks.v1+cell": {
     "cellMetadata": {
      "byteLimit": 2048000,
      "rowLimit": 10000
     },
     "inputWidgets": {},
     "nuid": "5029ab9d-edec-41e6-823a-27fd96f713d2",
     "showTitle": false,
     "tableResultSettingsMap": {},
     "title": ""
    }
   },
   "outputs": [],
   "source": [
    "# Select hours columns\n",
    "business_hours_df = business_df.select(\"business_id\", \"hours.*\")\n",
    "\n",
    "# Days of the week\n",
    "hour_attrs = [\n",
    "    \"Monday\",\n",
    "    \"Tuesday\",\n",
    "    \"Wednesday\",\n",
    "    \"Thursday\",\n",
    "    \"Friday\",\n",
    "    \"Saturday\",\n",
    "    \"Sunday\",\n",
    "]\n",
    "\n",
    "# Process hours using PySpark functions\n",
    "for attr in hour_attrs:\n",
    "    business_hours_df = business_hours_df \\\n",
    "        .withColumn(\n",
    "            f\"{attr}_from\", \n",
    "            (F.split(F.col(attr), \"-\")[0].substr(0, 2).cast(\"int\") * 100 + \n",
    "             F.split(F.col(attr), \"-\")[0].substr(4, 2).cast(\"int\"))\n",
    "        ) \\\n",
    "        .withColumn(\n",
    "            f\"{attr}_to\", \n",
    "            (F.split(F.col(attr), \"-\")[1].substr(0, 2).cast(\"int\") * 100 + \n",
    "             F.split(F.col(attr), \"-\")[1].substr(4, 2).cast(\"int\"))\n",
    "        ) \\\n",
    "        .drop(attr)"
   ]
  },
  {
   "cell_type": "code",
   "execution_count": 0,
   "metadata": {
    "application/vnd.databricks.v1+cell": {
     "cellMetadata": {
      "byteLimit": 2048000,
      "rowLimit": 10000
     },
     "inputWidgets": {},
     "nuid": "e9dfac81-8665-467b-9e9d-6fe66946cbb7",
     "showTitle": false,
     "tableResultSettingsMap": {},
     "title": ""
    }
   },
   "outputs": [
    {
     "output_type": "stream",
     "name": "stdout",
     "output_type": "stream",
     "text": [
      "=== DataFrame Overview ===\n\nNumber of rows: 150346\nNumber of columns: 15\n\nSchema:\nroot\n |-- business_id: string (nullable = true)\n |-- Monday_from: integer (nullable = true)\n |-- Monday_to: integer (nullable = true)\n |-- Tuesday_from: integer (nullable = true)\n |-- Tuesday_to: integer (nullable = true)\n |-- Wednesday_from: integer (nullable = true)\n |-- Wednesday_to: integer (nullable = true)\n |-- Thursday_from: integer (nullable = true)\n |-- Thursday_to: integer (nullable = true)\n |-- Friday_from: integer (nullable = true)\n |-- Friday_to: integer (nullable = true)\n |-- Saturday_from: integer (nullable = true)\n |-- Saturday_to: integer (nullable = true)\n |-- Sunday_from: integer (nullable = true)\n |-- Sunday_to: integer (nullable = true)\n\n\nSample Data (First 5 Rows):\n+----------------------+-----------+---------+------------+----------+--------------+------------+-------------+-----------+-----------+---------+-------------+-----------+-----------+---------+\n|business_id           |Monday_from|Monday_to|Tuesday_from|Tuesday_to|Wednesday_from|Wednesday_to|Thursday_from|Thursday_to|Friday_from|Friday_to|Saturday_from|Saturday_to|Sunday_from|Sunday_to|\n+----------------------+-----------+---------+------------+----------+--------------+------------+-------------+-----------+-----------+---------+-------------+-----------+-----------+---------+\n|Pns2l4eNsfO8kk83dixA6A|NULL       |NULL     |NULL        |NULL      |NULL          |NULL        |NULL         |NULL       |NULL       |NULL     |NULL         |NULL       |NULL       |NULL     |\n|mpf3x-BjTdTEA3yCZrAYPw|NULL       |NULL     |NULL        |1830      |NULL          |1830        |NULL         |1830       |NULL       |1830     |NULL         |1400       |NULL       |NULL     |\n|tUFrWirKiKi_TAnsVWINQQ|NULL       |2200     |NULL        |2200      |NULL          |2200        |NULL         |2200       |NULL       |2300     |NULL         |2300       |NULL       |2200     |\n|MTSW4McQd7CbVtyjqoe9mw|NULL       |2000     |NULL        |2000      |NULL          |2000        |NULL         |2000       |NULL       |2100     |NULL         |2100       |NULL       |2100     |\n|mWMc6_wTdE0EUBKIGXDVfA|NULL       |NULL     |NULL        |NULL      |1400          |2200        |1600         |2200       |1200       |2200     |1200         |2200       |1200       |1800     |\n+----------------------+-----------+---------+------------+----------+--------------+------------+-------------+-----------+-----------+---------+-------------+-----------+-----------+---------+\nonly showing top 5 rows\n\n"
     ]
    }
   ],
   "source": [
    "describe_dataframe(business_hours_df)"
   ]
  },
  {
   "cell_type": "code",
   "execution_count": 0,
   "metadata": {
    "application/vnd.databricks.v1+cell": {
     "cellMetadata": {
      "byteLimit": 2048000,
      "rowLimit": 10000
     },
     "inputWidgets": {},
     "nuid": "1279175a-e596-4362-b610-9e1312867ef3",
     "showTitle": false,
     "tableResultSettingsMap": {},
     "title": ""
    }
   },
   "outputs": [
    {
     "output_type": "stream",
     "name": "stdout",
     "output_type": "stream",
     "text": [
      "Successfully written Parquet file to abfss://silver@adlsyelpdata.dfs.core.windows.net/business_hours.parquet\n"
     ]
    }
   ],
   "source": [
    "output_path = \"abfss://silver@adlsyelpdata.dfs.core.windows.net/business_hours.parquet\"\n",
    "write_parquet_to_adls(business_hours_df, output_path)"
   ]
  },
  {
   "cell_type": "markdown",
   "metadata": {
    "application/vnd.databricks.v1+cell": {
     "cellMetadata": {
      "byteLimit": 2048000,
      "rowLimit": 10000
     },
     "inputWidgets": {},
     "nuid": "5960db4e-a786-49d8-b666-a69d20d2a755",
     "showTitle": false,
     "tableResultSettingsMap": {},
     "title": ""
    }
   },
   "source": [
    "#### businesses"
   ]
  },
  {
   "cell_type": "code",
   "execution_count": 0,
   "metadata": {
    "application/vnd.databricks.v1+cell": {
     "cellMetadata": {
      "byteLimit": 2048000,
      "rowLimit": 10000
     },
     "inputWidgets": {},
     "nuid": "7c757ac1-22fe-433a-9fe8-4f7526da8ab3",
     "showTitle": false,
     "tableResultSettingsMap": {},
     "title": ""
    }
   },
   "outputs": [],
   "source": [
    "# Create surrogate keys for faster joins (optional optimization)\n",
    "addresses_df = addresses_df.withColumn(\n",
    "    \"address_key\",\n",
    "    F.concat_ws(\"_\", F.col(\"address\"), F.col(\"latitude\"), F.col(\"longitude\"), F.col(\"postal_code\"))\n",
    ")\n",
    "business_df = business_df.withColumn(\n",
    "    \"address_key\",\n",
    "    F.concat_ws(\"_\", F.col(\"address\"), F.col(\"latitude\"), F.col(\"longitude\"), F.col(\"postal_code\"))\n",
    ")\n",
    "\n",
    "# Join on address_key and select relevant columns\n",
    "businesses_df = business_df.join(\n",
    "    addresses_df, \"address_key\", how=\"left\"\n",
    ").select(\n",
    "    \"business_id\",\n",
    "    \"address_id\",\n",
    "    F.col(\"is_open\").cast(\"boolean\").alias(\"is_open\"),\n",
    "    \"name\",\n",
    "    \"review_count\",\n",
    "    \"stars\"\n",
    ")\n",
    "\n",
    "# Optional: Filter out unmatched businesses\n",
    "businesses_df = businesses_df.filter(F.col(\"address_id\").isNotNull())"
   ]
  },
  {
   "cell_type": "code",
   "execution_count": 0,
   "metadata": {
    "application/vnd.databricks.v1+cell": {
     "cellMetadata": {
      "byteLimit": 2048000,
      "rowLimit": 10000
     },
     "inputWidgets": {},
     "nuid": "4ed4414b-55a9-4a33-9845-e04d5e69e046",
     "showTitle": false,
     "tableResultSettingsMap": {},
     "title": ""
    }
   },
   "outputs": [
    {
     "output_type": "stream",
     "name": "stdout",
     "output_type": "stream",
     "text": [
      "=== DataFrame Overview ===\n\nNumber of rows: 152495\nNumber of columns: 6\n\nSchema:\nroot\n |-- business_id: string (nullable = true)\n |-- address_id: integer (nullable = true)\n |-- is_open: boolean (nullable = true)\n |-- name: string (nullable = true)\n |-- review_count: long (nullable = true)\n |-- stars: double (nullable = true)\n\n\nSample Data (First 5 Rows):\n+----------------------+----------+-------+-------------------------+------------+-----+\n|business_id           |address_id|is_open|name                     |review_count|stars|\n+----------------------+----------+-------+-------------------------+------------+-----+\n|RfkB6YGl0YUrt_ECXr7lxA|1         |true   |Tranquil Salon & Spa     |23          |4.5  |\n|ttenaAAadxy5L-2oDR1ztQ|2         |true   |Beijing                  |9           |3.0  |\n|ajfBGoRGUzhD0fTXLENcrw|3         |true   |Asahi Sushi & Asian Grill|56          |4.0  |\n|Cpa72Va_GG2v3RLbZLkMFg|4         |true   |Studio Health Medical Spa|5           |5.0  |\n|ONmS8r1C0F0vglz2nKjkPA|5         |true   |Rotolo's Pizzeria        |29          |4.0  |\n+----------------------+----------+-------+-------------------------+------------+-----+\nonly showing top 5 rows\n\n"
     ]
    }
   ],
   "source": [
    "describe_dataframe(businesses_df)"
   ]
  },
  {
   "cell_type": "code",
   "execution_count": 0,
   "metadata": {
    "application/vnd.databricks.v1+cell": {
     "cellMetadata": {
      "byteLimit": 2048000,
      "rowLimit": 10000
     },
     "inputWidgets": {},
     "nuid": "d61563a4-01b2-4837-acc2-a94de9842f33",
     "showTitle": false,
     "tableResultSettingsMap": {},
     "title": ""
    }
   },
   "outputs": [
    {
     "output_type": "stream",
     "name": "stdout",
     "output_type": "stream",
     "text": [
      "Successfully written Parquet file to abfss://silver@adlsyelpdata.dfs.core.windows.net/businesses.parquet\n"
     ]
    }
   ],
   "source": [
    "output_path = \"abfss://silver@adlsyelpdata.dfs.core.windows.net/businesses.parquet\"\n",
    "write_parquet_to_adls(businesses_df, output_path)"
   ]
  },
  {
   "cell_type": "markdown",
   "metadata": {
    "application/vnd.databricks.v1+cell": {
     "cellMetadata": {
      "byteLimit": 2048000,
      "rowLimit": 10000
     },
     "inputWidgets": {},
     "nuid": "9fbe50ab-e9b2-4fc1-88be-e96fd4fd62a4",
     "showTitle": false,
     "tableResultSettingsMap": {},
     "title": ""
    }
   },
   "source": [
    "### review.json"
   ]
  },
  {
   "cell_type": "code",
   "execution_count": 0,
   "metadata": {
    "application/vnd.databricks.v1+cell": {
     "cellMetadata": {
      "byteLimit": 2048000,
      "rowLimit": 10000
     },
     "inputWidgets": {},
     "nuid": "dd3c3be2-f3ec-4a69-a317-b5a37ee571b6",
     "showTitle": false,
     "tableResultSettingsMap": {},
     "title": ""
    }
   },
   "outputs": [
    {
     "output_type": "stream",
     "name": "stdout",
     "output_type": "stream",
     "text": [
      "Successfully loaded file: abfss://bronze@adlsyelpdata.dfs.core.windows.net/yelp_open/yelp_academic_dataset_review.json as .JSON\n"
     ]
    }
   ],
   "source": [
    "review_df = read_file_from_adls(review_path)"
   ]
  },
  {
   "cell_type": "code",
   "execution_count": 0,
   "metadata": {
    "application/vnd.databricks.v1+cell": {
     "cellMetadata": {
      "byteLimit": 2048000,
      "rowLimit": 10000
     },
     "inputWidgets": {},
     "nuid": "7ec911c4-0a7f-4326-8964-ec7fc75d7af9",
     "showTitle": false,
     "tableResultSettingsMap": {},
     "title": ""
    }
   },
   "outputs": [
    {
     "output_type": "stream",
     "name": "stdout",
     "output_type": "stream",
     "text": [
      "=== DataFrame Overview ===\n\nNumber of rows: 6990280\nNumber of columns: 9\n\nSchema:\nroot\n |-- business_id: string (nullable = true)\n |-- cool: long (nullable = true)\n |-- date: string (nullable = true)\n |-- funny: long (nullable = true)\n |-- review_id: string (nullable = true)\n |-- stars: double (nullable = true)\n |-- text: string (nullable = true)\n |-- useful: long (nullable = true)\n |-- user_id: string (nullable = true)\n\n\nSample Data (First 5 Rows):\n+----------------------+----+-------------------+-----+----------------------+-----+-----------------------------------------------------------------------------------------------------------------------------------------------------------------------------------------------------------------------------------------------------------------------------------------------------------------------------------------------------------------------------------------------------------------------------------------------------------------------------------------------------------------------------------------------------------------------------------------------------------------------------------------------------------------------------------------------------------------------------------------------------------------------------------------------------------------------------------------------------------------+------+----------------------+\n|business_id           |cool|date               |funny|review_id             |stars|text                                                                                                                                                                                                                                                                                                                                                                                                                                                                                                                                                                                                                                                                                                                                                                                                                                                             |useful|user_id               |\n+----------------------+----+-------------------+-----+----------------------+-----+-----------------------------------------------------------------------------------------------------------------------------------------------------------------------------------------------------------------------------------------------------------------------------------------------------------------------------------------------------------------------------------------------------------------------------------------------------------------------------------------------------------------------------------------------------------------------------------------------------------------------------------------------------------------------------------------------------------------------------------------------------------------------------------------------------------------------------------------------------------------+------+----------------------+\n|XQfwVwDr-v0ZS3_CbbE5Xw|0   |2018-07-07 22:09:11|0    |KU_O5udG6zpxOg-VcAEodg|3.0  |If you decide to eat here, just be aware it is going to take about 2 hours from beginning to end. We have tried it multiple times, because I want to like it! I have been to it's other locations in NJ and never had a bad experience. \\n\\nThe food is good, but it takes a very long time to come out. The waitstaff is very young, but usually pleasant. We have just had too many experiences where we spent way too long waiting. We usually opt for another diner or restaurant on the weekends, in order to be done quicker.                                                                                                                                                                                                                                                                                                                              |0     |mh_-eMZ6K5RLWhZyISBhwA|\n|7ATYjTIgM3jUlt4UM3IypQ|1   |2012-01-03 15:28:18|0    |BiTunyQ73aT9WBnpR9DZGw|5.0  |I've taken a lot of spin classes over the years, and nothing compares to the classes at Body Cycle. From the nice, clean space and amazing bikes, to the welcoming and motivating instructors, every class is a top notch work out.\\n\\nFor anyone who struggles to fit workouts in, the online scheduling system makes it easy to plan ahead (and there's no need to line up way in advanced like many gyms make you do).\\n\\nThere is no way I can write this review without giving Russell, the owner of Body Cycle, a shout out. Russell's passion for fitness and cycling is so evident, as is his desire for all of his clients to succeed. He is always dropping in to classes to check in/provide encouragement, and is open to ideas and recommendations from anyone. Russell always wears a smile on his face, even when he's kicking your butt in class!|1     |OyoGAe7OKpv6SyGZT5g77Q|\n|YjUWPpI6HXG530lwP-fb2A|0   |2014-02-05 20:30:30|0    |saUsX_uimxRlCVr67Z4Jig|3.0  |Family diner. Had the buffet. Eclectic assortment: a large chicken leg, fried jalapeño, tamale, two rolled grape leaves, fresh melon. All good. Lots of Mexican choices there. Also has a menu with breakfast served all day long. Friendly, attentive staff. Good place for a casual relaxed meal with no expectations. Next to the Clarion Hotel.                                                                                                                                                                                                                                                                                                                                                                                                                                                                                                              |0     |8g_iMtfSiwikVnbP2etR0A|\n|kxX2SOes4o-D3ZQBkiMRfA|1   |2015-01-04 00:01:03|0    |AqPFMleE6RsU23_auESxiA|5.0  |Wow!  Yummy, different,  delicious.   Our favorite is the lamb curry and korma.  With 10 different kinds of naan!!!  Don't let the outside deter you (because we almost changed our minds)...go in and try something new!   You'll be glad you did!                                                                                                                                                                                                                                                                                                                                                                                                                                                                                                                                                                                                              |1     |_7bHUi9Uuf5__HHc_Q8guQ|\n|e4Vwtrqf-wpJfwesgvdgxQ|1   |2017-01-14 20:54:15|0    |Sx8TMOWLNuJBWer-0pcmoA|4.0  |Cute interior and owner (?) gave us tour of upcoming patio/rooftop area which will be great on beautiful days like today. Cheese curds were very good and very filling. Really like that sandwiches come w salad, esp after eating too many curds! Had the onion, gruyere, tomato sandwich. Wasn't too much cheese which I liked. Needed something else...pepper jelly maybe. Would like to see more menu options added such as salads w fun cheeses. Lots of beer and wine as well as limited cocktails. Next time I will try one of the draft wines.                                                                                                                                                                                                                                                                                                           |1     |bcjbaE6dDog4jkNY91ncLQ|\n+----------------------+----+-------------------+-----+----------------------+-----+-----------------------------------------------------------------------------------------------------------------------------------------------------------------------------------------------------------------------------------------------------------------------------------------------------------------------------------------------------------------------------------------------------------------------------------------------------------------------------------------------------------------------------------------------------------------------------------------------------------------------------------------------------------------------------------------------------------------------------------------------------------------------------------------------------------------------------------------------------------------+------+----------------------+\nonly showing top 5 rows\n\n"
     ]
    }
   ],
   "source": [
    "describe_dataframe(review_df)"
   ]
  },
  {
   "cell_type": "code",
   "execution_count": 0,
   "metadata": {
    "application/vnd.databricks.v1+cell": {
     "cellMetadata": {
      "byteLimit": 2048000,
      "rowLimit": 10000
     },
     "inputWidgets": {},
     "nuid": "89b6f263-4970-4ef7-b5f9-07a3f5b3a900",
     "showTitle": false,
     "tableResultSettingsMap": {},
     "title": ""
    }
   },
   "outputs": [],
   "source": [
    "review_df = review_df.withColumn(\"ts\", F.to_timestamp(\"date\"))"
   ]
  },
  {
   "cell_type": "code",
   "execution_count": 0,
   "metadata": {
    "application/vnd.databricks.v1+cell": {
     "cellMetadata": {
      "byteLimit": 2048000,
      "rowLimit": 10000
     },
     "inputWidgets": {},
     "nuid": "a1ca9d2c-9d01-4e97-b319-89a099a8b48b",
     "showTitle": false,
     "tableResultSettingsMap": {},
     "title": ""
    }
   },
   "outputs": [
    {
     "output_type": "stream",
     "name": "stdout",
     "output_type": "stream",
     "text": [
      "=== DataFrame Overview ===\n\nNumber of rows: 6990280\nNumber of columns: 10\n\nSchema:\nroot\n |-- business_id: string (nullable = true)\n |-- cool: long (nullable = true)\n |-- date: string (nullable = true)\n |-- funny: long (nullable = true)\n |-- review_id: string (nullable = true)\n |-- stars: double (nullable = true)\n |-- text: string (nullable = true)\n |-- useful: long (nullable = true)\n |-- user_id: string (nullable = true)\n |-- ts: timestamp (nullable = true)\n\n\nSample Data (First 5 Rows):\n+----------------------+----+-------------------+-----+----------------------+-----+-----------------------------------------------------------------------------------------------------------------------------------------------------------------------------------------------------------------------------------------------------------------------------------------------------------------------------------------------------------------------------------------------------------------------------------------------------------------------------------------------------------------------------------------------------------------------------------------------------------------------------------------------------------------------------------------------------------------------------------------------------------------------------------------------------------------------------------------------------------------+------+----------------------+-------------------+\n|business_id           |cool|date               |funny|review_id             |stars|text                                                                                                                                                                                                                                                                                                                                                                                                                                                                                                                                                                                                                                                                                                                                                                                                                                                             |useful|user_id               |ts                 |\n+----------------------+----+-------------------+-----+----------------------+-----+-----------------------------------------------------------------------------------------------------------------------------------------------------------------------------------------------------------------------------------------------------------------------------------------------------------------------------------------------------------------------------------------------------------------------------------------------------------------------------------------------------------------------------------------------------------------------------------------------------------------------------------------------------------------------------------------------------------------------------------------------------------------------------------------------------------------------------------------------------------------+------+----------------------+-------------------+\n|XQfwVwDr-v0ZS3_CbbE5Xw|0   |2018-07-07 22:09:11|0    |KU_O5udG6zpxOg-VcAEodg|3.0  |If you decide to eat here, just be aware it is going to take about 2 hours from beginning to end. We have tried it multiple times, because I want to like it! I have been to it's other locations in NJ and never had a bad experience. \\n\\nThe food is good, but it takes a very long time to come out. The waitstaff is very young, but usually pleasant. We have just had too many experiences where we spent way too long waiting. We usually opt for another diner or restaurant on the weekends, in order to be done quicker.                                                                                                                                                                                                                                                                                                                              |0     |mh_-eMZ6K5RLWhZyISBhwA|2018-07-07 22:09:11|\n|7ATYjTIgM3jUlt4UM3IypQ|1   |2012-01-03 15:28:18|0    |BiTunyQ73aT9WBnpR9DZGw|5.0  |I've taken a lot of spin classes over the years, and nothing compares to the classes at Body Cycle. From the nice, clean space and amazing bikes, to the welcoming and motivating instructors, every class is a top notch work out.\\n\\nFor anyone who struggles to fit workouts in, the online scheduling system makes it easy to plan ahead (and there's no need to line up way in advanced like many gyms make you do).\\n\\nThere is no way I can write this review without giving Russell, the owner of Body Cycle, a shout out. Russell's passion for fitness and cycling is so evident, as is his desire for all of his clients to succeed. He is always dropping in to classes to check in/provide encouragement, and is open to ideas and recommendations from anyone. Russell always wears a smile on his face, even when he's kicking your butt in class!|1     |OyoGAe7OKpv6SyGZT5g77Q|2012-01-03 15:28:18|\n|YjUWPpI6HXG530lwP-fb2A|0   |2014-02-05 20:30:30|0    |saUsX_uimxRlCVr67Z4Jig|3.0  |Family diner. Had the buffet. Eclectic assortment: a large chicken leg, fried jalapeño, tamale, two rolled grape leaves, fresh melon. All good. Lots of Mexican choices there. Also has a menu with breakfast served all day long. Friendly, attentive staff. Good place for a casual relaxed meal with no expectations. Next to the Clarion Hotel.                                                                                                                                                                                                                                                                                                                                                                                                                                                                                                              |0     |8g_iMtfSiwikVnbP2etR0A|2014-02-05 20:30:30|\n|kxX2SOes4o-D3ZQBkiMRfA|1   |2015-01-04 00:01:03|0    |AqPFMleE6RsU23_auESxiA|5.0  |Wow!  Yummy, different,  delicious.   Our favorite is the lamb curry and korma.  With 10 different kinds of naan!!!  Don't let the outside deter you (because we almost changed our minds)...go in and try something new!   You'll be glad you did!                                                                                                                                                                                                                                                                                                                                                                                                                                                                                                                                                                                                              |1     |_7bHUi9Uuf5__HHc_Q8guQ|2015-01-04 00:01:03|\n|e4Vwtrqf-wpJfwesgvdgxQ|1   |2017-01-14 20:54:15|0    |Sx8TMOWLNuJBWer-0pcmoA|4.0  |Cute interior and owner (?) gave us tour of upcoming patio/rooftop area which will be great on beautiful days like today. Cheese curds were very good and very filling. Really like that sandwiches come w salad, esp after eating too many curds! Had the onion, gruyere, tomato sandwich. Wasn't too much cheese which I liked. Needed something else...pepper jelly maybe. Would like to see more menu options added such as salads w fun cheeses. Lots of beer and wine as well as limited cocktails. Next time I will try one of the draft wines.                                                                                                                                                                                                                                                                                                           |1     |bcjbaE6dDog4jkNY91ncLQ|2017-01-14 20:54:15|\n+----------------------+----+-------------------+-----+----------------------+-----+-----------------------------------------------------------------------------------------------------------------------------------------------------------------------------------------------------------------------------------------------------------------------------------------------------------------------------------------------------------------------------------------------------------------------------------------------------------------------------------------------------------------------------------------------------------------------------------------------------------------------------------------------------------------------------------------------------------------------------------------------------------------------------------------------------------------------------------------------------------------+------+----------------------+-------------------+\nonly showing top 5 rows\n\n"
     ]
    }
   ],
   "source": [
    "describe_dataframe(review_df)"
   ]
  },
  {
   "cell_type": "code",
   "execution_count": 0,
   "metadata": {
    "application/vnd.databricks.v1+cell": {
     "cellMetadata": {
      "byteLimit": 2048000,
      "rowLimit": 10000
     },
     "inputWidgets": {},
     "nuid": "3f217daf-2550-478c-9360-127bb05ddb30",
     "showTitle": false,
     "tableResultSettingsMap": {},
     "title": ""
    }
   },
   "outputs": [
    {
     "output_type": "stream",
     "name": "stdout",
     "output_type": "stream",
     "text": [
      "Successfully written Parquet file to abfss://silver@adlsyelpdata.dfs.core.windows.net/review.parquet\n"
     ]
    }
   ],
   "source": [
    "output_path = \"abfss://silver@adlsyelpdata.dfs.core.windows.net/review.parquet\"\n",
    "write_parquet_to_adls(review_df, output_path)"
   ]
  },
  {
   "cell_type": "markdown",
   "metadata": {
    "application/vnd.databricks.v1+cell": {
     "cellMetadata": {
      "byteLimit": 2048000,
      "rowLimit": 10000
     },
     "inputWidgets": {},
     "nuid": "56f12c0d-e49d-4c97-996a-f391816c2a70",
     "showTitle": false,
     "tableResultSettingsMap": {},
     "title": ""
    }
   },
   "source": [
    "### user.json"
   ]
  },
  {
   "cell_type": "code",
   "execution_count": 0,
   "metadata": {
    "application/vnd.databricks.v1+cell": {
     "cellMetadata": {
      "byteLimit": 2048000,
      "rowLimit": 10000
     },
     "inputWidgets": {},
     "nuid": "787b64b9-f13d-4ed6-8cbe-41c8a66ce814",
     "showTitle": false,
     "tableResultSettingsMap": {},
     "title": ""
    }
   },
   "outputs": [
    {
     "output_type": "stream",
     "name": "stdout",
     "output_type": "stream",
     "text": [
      "Successfully loaded file: abfss://bronze@adlsyelpdata.dfs.core.windows.net/yelp_open/yelp_academic_dataset_user.json as .JSON\n"
     ]
    }
   ],
   "source": [
    "user_df = read_file_from_adls(user_path)"
   ]
  },
  {
   "cell_type": "code",
   "execution_count": 0,
   "metadata": {
    "application/vnd.databricks.v1+cell": {
     "cellMetadata": {
      "byteLimit": 2048000,
      "rowLimit": 10000
     },
     "inputWidgets": {},
     "nuid": "c372ad66-88df-48bb-b36f-daa11c3f0a29",
     "showTitle": false,
     "tableResultSettingsMap": {},
     "title": ""
    }
   },
   "outputs": [
    {
     "output_type": "stream",
     "name": "stdout",
     "output_type": "stream",
     "text": [
      "=== DataFrame Overview ===\n\nNumber of rows: 1987897\nNumber of columns: 22\n\nSchema:\nroot\n |-- average_stars: double (nullable = true)\n |-- compliment_cool: long (nullable = true)\n |-- compliment_cute: long (nullable = true)\n |-- compliment_funny: long (nullable = true)\n |-- compliment_hot: long (nullable = true)\n |-- compliment_list: long (nullable = true)\n |-- compliment_more: long (nullable = true)\n |-- compliment_note: long (nullable = true)\n |-- compliment_photos: long (nullable = true)\n |-- compliment_plain: long (nullable = true)\n |-- compliment_profile: long (nullable = true)\n |-- compliment_writer: long (nullable = true)\n |-- cool: long (nullable = true)\n |-- elite: string (nullable = true)\n |-- fans: long (nullable = true)\n |-- friends: string (nullable = true)\n |-- funny: long (nullable = true)\n |-- name: string (nullable = true)\n |-- review_count: long (nullable = true)\n |-- useful: long (nullable = true)\n |-- user_id: string (nullable = true)\n |-- yelping_since: string (nullable = true)\n\n\nSample Data (First 5 Rows):\n+-------------+---------------+---------------+----------------+--------------+---------------+---------------+---------------+-----------------+----------------+------------------+-----------------+-----+-----------------------------------------------------------------+----+-----------------------------------------------------------------------------------------------------------------------------------------------------------------------------------------------------------------------------------------------------------------------------------------------------------------------------------------------------------------------------------------------------------------------------------------------------------------------------------------------------------------------------------------------------------------------------------------------------------------------------------------------------------------------------------------------------------------------------------------------------------------------------------------------------------------------------------------------------------------------------------------------------------------------------------------------------------------------------------------------------------------------------------------------------------------------------------------------------------------------------------------------------------------------------------------------------------------------------------------------------------------------------------------------------------------------------------------------------------------------------------------------------------------------------------------------------------------------------------------------------------------------------------------------------------------------------------------------------------------------------------------------------------------------------------------------------------------------------------------------------------------------------------------------------------------------------------------------------------------------------------------------------------------------------------------------------------------------------------------------------------------------------------------------------------------------------------------------------------------------------------------------------------------------------------------------------------------------------------------------------------------------------------------------------------------------------------------------------------------------------------------------------------------------------------------------------------------------------------------------------------------------------------------------------------------------------------------------------------------------------------------------------------------------------------------------------------------------------------------------------------------------------------------------------------------------------------------------------------------------------------------------------------------------------------------------------------------------------------------------------------------------------------------------------------------------------------------------------------------------------------------------------------------------------------------------------------------------------------------------------------------------------------------------------------------------------------------------------------------------------------------------------------------------------------------------------------------------------------------------------------------------------------------------------------------------------------------------------------------------------------------------------------------------------------------------------------------------------------------------------------------------------------------------------------------------------------------------------------------------------------------------------------------------------------------------------------------------------------------------------------------------------------------------------------------------------------------------------------------------------------------------------------------------------------------------------------------------------------------------------------------------------------------------------------------------------------------------------------------------------------------------------------------------------------------------------------------------------------------------------------------------------------------------------------------------------------------------------------------------------------------------------------------------------------------------------------------------------------------------------------------------------------------------------------------------------------------------------------------------------------------------------------------------------------------------------------------------------------------------------------------------------------------------------------------------------------------------------------------------------------------------------------------------------------------------------------------------------------------------------------------------------------------------------------------------------------------------------------------------------------------------------------------------------------------------------------------------------------------------------------------------------------------------------------------------------------------------------------------------------------------------------------------------------------------------------------------------------------------------------------------------------------------------------------------------------------------------------------------------------------------------------------------------------------------------------------------------------------------------------------------------------------------------------------------------------------------------------------------------------------------------------------------------------------------------------------------------------------------------------------------------------------------------------------------------------------------------------------------------------------------------------------------------------------------------------------------------------------------------------------------------------------------------------------------------------------------------------------------------------------------------------------------------------------------------------------------------------------------------------------------------------------------------------------------------------------------------------------------------------------------------------------------------------------------------------------------------------------------------------------------------------------------------------------------------------------------------------------------------------------------------------------------------------------------------------------------------------------------------------------------------------------------------------------------------------------------------------------------------------------------------------------------------------------------------------------------------------------------------------------------------------------------------------------------------------------------------------------------------------------------------------------------------------------------------------------------------------------------------------------------------------------------------------------------------------------------------------------------------------------------------------------------------------------------------------------------------------------------------------------------------------------------------------------------------------------------------------------------------------------------------------------------------------------------------------------------------------------------------------------------------------------------------------------------------------------------------------------------------------------------------------------------------------------------------------------------------------------------------------------------------------------------------------------------------------------------------------------------------------------------------------------------------------------------------------------------------------------------------------------------------------------------------------------------------------------------------------------------------------------------------------------------------------------------------------------------------------------------------------------------------------------------------------------------------------------------------------------------------------------------------------------------------------------------------------------------------------------------------------------------------------------------------------------------------------------------------------------------------------------------------------------------------------------------------------------------------------------------------------------------------------------------------------------------------------------------------------------------------------------------------------------------------------------------------------------------------------------------------------------------------------------------------------------------------------------------------------------------------------------------------------------------------------------------------------------------------------------------------------------------------------------------------------------------------------------------------------------------------------------------------------------------------------------------------------------------------------------------------------------------------------------------------------------------------------------------------------------------------------------------------------------------------------------------------------------------------------------------------------------------------------------------------------------------------------------------------------------------------------------------------------------------------------------------------------------------------------------------------------------------------------------------------------------------------------------------------------------------------------------------------------------------------------------------------------------------------------------------------------------------------------------------------------------------------------------------------------------------------------------------------------------------------------------------------------------------------------------------------------------------------------------------------------------------------------------------------------------------------------------------------------------------------------------------------------------------------------------------------------------------------------------------------------------------------------------------------------------------------------------------------------------------------------------------------------------------------------------------------------------------------------------------------------------------------------------------------------------------------------------------------------------------------------------------------------------------------------------------------------------------------------------------------------------------------------------------------------------------------------------------------------------------------------------------------------------------------------------------------------------------------------------------------------------------------------------------------------------------------------------------------------------------------------------------------------------------------------------------------------------------------------------------------------------------------------------------------------------------------------------------------------------------------------------------------------------------------------------------------------------------------------------------------------------------------------------------------------------------------------------------------------------------------------------------------------------------------------------------------------------------------------------------------------------------------------------------------------------------------------------------------------------------------------------------------------------------------------------------------------------------------------------------------------------------------------------------------------------------------------------------------------------------------------------------------------------------------------------------------------------------------------------------------------------------------------------------------------------------------------------------------------------------------------------------------------------------------------------------------------------------------------------------------------------------------------------------------------------------------------------------------------------------------------------------------------------------------------------------------------------------------------------------------------------------------------------------------------------------------------------------------------------------------------------------------------------------------------------------------------------------------------------------------------------------------------------------------------------------------------------------------------------------------------------------------------------------------------------------------------------------------------------------------------------------------------------------------------------------------------------------------------------------------------------------------------------------------------------------------------------------------------------------------------------------------------------------------------------------------------------------------------------------------------------------------------------------------------------------------------------------------------------------------------------------------------------------------------------------------------------------------------------------------------------------------------------------------------------------------------------------------------------------------------------------------------------------------------------------------------------------------------------------------------------------------------------------------------------------------------------------------------------------------------------------------------------------------------------------------------------------------------------------------------------------------------------------------------------------------------------------------------------------------------------------------------------------------------------------------------------------------------------------------------------------------------------------------------------------------------------------------------------------------------------------------------------------------------------------------------------------------------------------------------------------------------------------------------------------------------------------------------------------------------------------------------------------------------------------------------------------------------------------------------------------------------------------------------------------------------------------------------------------------------------------------------------------------------------------------------------------------------------------------------------------------------------------------------------------------------------------------------------------------------------------------------------------------------------------------------------------------------------------------------------------------------------------------------------------------------------------------------------------------------------------------------------------------------------------------------------------------------------------------------------------------------------------------------------------------------------------------------------------------------------------------------------------------------------------------------------------------------------------------------------------------------------------------------------------------------------------------------------------------------------------------------------------------------------------------------------------------------------------------------------------------------------------------------------------------------------------------------------------------------------------------------------------------------------------------------------------------------------------------------------------------------------------------------------------------------------------------------------------------------------------------------------------------------------------------------------------------------------------------------------------------------------------------------------------------------------------------------------------------------------------------------------------------------------------------------------------------------------------------------------------------------------------------------------------------------------------------------------------------------------------------------------------------------------------------------------------------------------------------------------------------------------------------------------------------------------------------------------------------------------------------------------------------------------------------------------------------------------------------------------------------------------------------------------------------------------------------------------------------------------------------------------------------------------------------------------------------------------------------------------------------------------------------------------------------------------------------------------------------------------------------------------------------------------------------------------------------------------------------------------------------------------------------------------------------------------------------------------------------------------------------------------------------------------------------------------------------------------------------------------------------------------------------------------------------------------------------------------------------------------------------------------------------------------------------------------------------------------------------------------------------------------------------------------------------------------------------------------------------------------------------------------------------------------------------------------------------------------------------------------------------------------------------------------------------------------------------------------------------------------------------------------------------------------------------------------------------------------------------------------------------------------------------------------------------------------------------------------------------------------------------------------------------------------------------------------------------------------------------------------------------------------------------------------------------------------------------------------------------------------------------------------------------------------------------------------------------------------------------------------------------------------------------------------------------------------------------------------------------------------------------------------------------------------------------------------------------------------------------------------------------------------------------------------------------------------------------------------------------------------------------------------------------------------------------------------------------------------------------------------------------------------------------------------------------------------------------------------------------------------------------------------------------------------------------------------------------------------------------------------------------------------------------------------------------------------------------------------------------------------------------------------------------------------------------------------------------------------------------------------------------------------------------------------------------------------------------------------------------------------------------------------------------------------------------------------------------------------------------------------------------------------------------------------------------------------------------------------------------------------------------------------------------------------------------------------------------------------------------------------------------------------------------------------------------------------------------------------------------------------------------------------------------------------------------------------------------------------------------------------------------------------------------------------------------------------------------------------------------------------------------------------------------------------------------------------------------------------------------------------------------------------------------------------------------------------------------------------------------------------------------------------------------------------------------------------------------------------------------------------------------------------------------------------------------------------------------------------------------------------------------------------------------------------------------------------------------------------------------------------------------------------------------------------------------------------------------------------------------------------------------------------------------------------------------------------------------------------------------------------------------------------------------------------------------------------------------------------------------------------------------------------------------------------------------------------------------------------------------------------------------------------------------------------------------------------------------------------------------------------------------------------------------------------------------------------------------------------------------------------------------------------------------------------------------------------------------------------------------------------------------------------------------------------------------------------------------------------------------------------------------------------------------------------------------------------------------------------------------------------------------------------------------------------------------------------------------------------------\n\n*** WARNING: max output size exceeded, skipping output. ***\n\n---------------------------------------------------------------------------------------------------------------------------------------------------------------------------------------------------------------------------------------------------------------------------------------------------------------------------------------------------------------------------------------------------------------------------------------------------------------------------------------------------------------------------------------------------------------------------------------------------------------------------------------------------------------------------------------------------------------------------------------------------------------------------------------------------------------------------------------------------------------------------------------------------------------------------------------------------------------------------------------------------------------------------------------------------------------------------------------------------------------------------------------------------------------------------------------------------------------------------------------------------------------------------------------------------------------------------------------------------------------------------------------------------------------------------------------------------------------------------------------------------------------------------------------------------------------------------------------------------------------------------------------------------------------------------------------------------------------------------------------------------------------------------------------------------------------------------------------------------------------------------------------------------------------------------------------------------------------------------------------------------------------------------------------------------------------------------------------------------------------------------------------------------------------------------------------------------------------------------------------------------------------------------------------------------------------------------------------------------------------------------------------------------------------------------------------------------------------------------------------------------------------------------------------------------------------------------------------------------------------------------------------------------------------------------------------------------------------------------------------------------------------------------------------------------------------------------------------------------------------------------------------------------------------------------------------------------------------------------------------------------------------------------------------------------------------------------------------------------------------------------------------------------------------------------------------------------------------------------------------------------------------------------------------------------------------------------------------------------------------------------------------------------------------------------------------------------------------------------------------------------------------------------------------------------------------------------------------------------------------------------------------------------------------------------------------------------------------------------------------------------------------------------------------------------------------------------------------------------------------------------------------------------------------------------------------------------------------------------------------------------------------------------------------------------------------------------------------------------------------------------------------------------------------------------------------------------------------------------------------------------------------------------------------------------------------------------------------------------------------------------------------------------------------------------------------------------------------------------------------------------------------------------------------------------------------------------------------------------------------------------------------------------------------------------------------------------------------------------------------------------------------------------------------------------------------------------------------------------------------------------------------------------------------------------------------------------------------------------------------------------------------------------------------------------------------------------------------------------------------------------------------------------------------------------------------------------------------------------------------------------------------------------------------------------------------------------------------------------------------------------------------------------------------------------------------------------------------------------------------------------------------------------------------------------------------------------------------------------------------------------------------------------------------------------------------------------------------------------------------------------------------------------------------------------------------------------------------------------------------------------------------------------------------------------------------------------------------------------------------------------------------------------------------------------------------------------------------------------------------------------------------------------------------------------------------------------------------------------------------------------------------------------------------------------------------------------------------------------------------------------------------------------------------------------------------------------------------------------------------------------------------------------------------------------------------------------------------------------------------------------------------------------------------------------------------------------------------------------------------------------------------------------------------------------------------------------------------------------------------------------------------------------------------------------------------------------------------------------------------------------------------------------------------------------------------------------------------------------------------------------------------------------------------------------------------------------------------------------------------------------------------------------------------------------------------------------------------------------------------------------------------------------------------------------------------------------------------------------------------------------------------------------------------------------------------------------------------------------------------------------------------------------------------------------------------------------------------------------------------------------------------------------------------------------------------------------------------------------------------------------------------------------------------------------------------------------------------------------------------------------------------------------------------------------------------------------------------------------------------------------------------------------------------------------------------------------------------------------------------------------------------------------------------------------------------------------------------------------------------------------------------------------------------------------------------------------------------------------------------------------------------------------------------------------------------------------------------------------------------------------------------------------------------------------------------------------------------------------------------------------------------------------------------------------------------------------------------------------------------------------------------------------------------------------------------------------------------------------------------------------------------------------------------------------------------------------------------------------------------------------------------------------------------------------------------------------------------------------------------------------------------------------------------------------------------------------------------------------------------------------------------------------------------------------------------------------------------------------------------------------------------------------------------------------------------------------------------------------------------------------------------------------------------------------------------------------------------------------------------------------------------------------------------------------------------------------------------------------------------------------------------------------------------------------------------------------------------------------------------------------------------------------------------------------------------------------------------------------------------------------------------------------------------------------------------------------------------------------------------------------------------------------------------------------------------------------------------------------------------------------------------------------------------------------------------------------------------------------------------------------------------------------------------------------------------------------------------------------------------------------------------------------------------------------------------------------------------------------------------------------------------------------------------------------------------------------------------------------------------------------------------------------------------------------------------------------------------------------------------------------------------------------------------------------------------------------------------------------------------------------------------------------------------------------------------------------------------------------------------------------------------------------------------------------------------------------------------------------------------------------------------------------------------------------------------------------------------------------------------------------------------------------------------------------------------------------------------------------------------------------------------------------------------------------------------------------------------------------------------------------------------------------------------------------------------------------------------------------------------------------------------------------------------------------------------------------------------------------------------------------------------------------------------------------------------------------------------------------------------------------------------------------------------------------------------------------------------------------------------------------------------------------------------------------------------------------------------------------------------------------------------------------------------------------------------------------------------------------------------------------------------------------------------------------------------------------------------------------------------------------------------------------------------------------------------------------------------------------------------------------------------------------------------------------------------------------------------------------------------------------------------------------------------------------------------------------------------------------------------------------------------------------------------------------------------------------------------------------------------------------------------------------------------------------------------------------------------------------------------------------------------------------------------------------------------------------------------------------------------------------------------------------------------------------------------------------------------------------------------------------------------------------------------------------------------------------------------------------------------------------------------------------------------------------------------------------------------------------------------------------------------------------------------------------------------------------------------------------------------------------------------------------------------------------------------------------------------------------------------------------------------------------------------------------------------------------------------------------------------------------------------------------------------------------------------------------------------------------------------------------------------------------------------------------------------------------------------------------------------------------------------------------------------------------------------------------------------------------------------------------------------------------------------------------------------------------------------------------------------------------------------------------------------------------------------------------------------------------------------------------------------------------------------------------------------------------------------------------------------------------------------------------------------------------------------------------------------------------------------------------------------------------------------------------------------------------------------------------------------------------------------------------------------------------------------------------------------------------------------------------------------------------------------------------------------------------------------------------------------------------------------------------------------------------------------------------------------------------------------------------------------------------------------------------------------------------------------------------------------------------------------------------------------------------------------------------------------------------------------------------------------------------------------------------------------------------------------------------------------------------------------------------------------------------------------------------------------------------------------------------------------------------------------------------------------------------------------------------------------------------------------------------------------------------------------------------------------------------------------------------------------------------------------------------------------------------------------------------------------------------------------------------------------------------------------------------------------------------------------------------------------------------------------------------------------------------------------------------------------------------------------------------------------------------------------------------------------------------------------------------------------------------------------------------------------------------------------------------------------------------------------------------------------------------------------------------------------------------------------------------------------------------------------------------------------------------------------------------------------------------------------------------------------------------------------------------------------------------------------------------------------------------------------------------------------------------------------------------------------------------------------------------------------------------------------------------------------------------------------------------------------------------------------------------------------------------------------------------------------------------------------------------------------------------------------------------------------------------------------------------------------------------------------------------------------------------------------------------------------------------------------------------------------------------------------------------------------------------------------------------------------------------------------------------------------------------------------------------------------------------------------------------------------------------------------------------------------------------------------------------------------------------------------------------------------------------------------------------------------------------------------------------------------------------------------------------------------------------------------------------------------------------------------------------------------------------------------------------------------------------------------------------------------------------------------------------------------------------------------------------------------------------------------------------------------------------------------------------------------------------------------------------------------------------------------------------------------------------------------------------------------------------------------------------------------------------------------------------------------------------------------------------------------------------------------------------------------------------------------------------------------------------------------------------------------------------------------------------------------------------------------------------------------------------------------------------------------------------------------------------------------------------------------------------------------------------------------------------------------------------------------------------------------------------------------------------------------------------------------------------------------------------------------------------------------------------------------------------------------------------------------------------------------------------------------------------------------------------------------------------------------------------------------------------------------------------------------------------------------------------------------------------------------------------------------------------------------------------------------------------------------------------------------------------------------------------------------------------------------------------------------------------------------------------------------------------------------------------------------------------------------------------------------------------------------------------------------------------------------------------------------------------------------------------------------------------------------------------------------------------------------------------------------------------------------------------------------------------------------------------------------------------------------------------------------------------------------------------------------------------------------------------------------------------------------------------------------------------------------------------------------------------------------------------------------------------------------------------------------------------------------------------------------------------------------------------------------------------------------------------------------------------------------------------------------------------------------------------------------------------------------------------------------------------------------------------------------------------------------------------------------------------------------------------------------------------------------------------------------------------------------------------------------------------------------------------------------------------------------------------------------------------------------------------------------------------------------------------------------------------------------------------------------------------------------------------------------------------------------------------------------------------------------------------------------------------------------------------------------------------------------------------------------------------------------------------------------------------------------------------------------------------------------------------------------------------------------------------------------------------------------------------------------------------------------------------------------------------------------------------------------------------------------------------------------------------------------------------------------------------------------------------------------------------------------------------------------------------------------------------------------------------------------------------------------------------------------------------------------------------------------------------------------------------------------------------------------------------------------------------------------------------------------------------------------------------------------------------------------------------------------------------------------------------------------------------------------------------------------------------------------------------------------------------------------------------------------------------------------------------------------------------------------------------------------------------------------------------------------------------------------------------------------------------------------------------------------------------------------------------------------------------------------------------------------------------------------------------------------------------------------------------------------------------------------------------------------------------------------------------------------------------------------------------------------------------------------------------------------------------------------------------------------------------------------------------------------------------------------------------------------------------------------------------------------------------------------------------------------------------------------------------------------------------------------------------------------------------------------------------------------------------------------------------------------------------------------------------------------------------------------------------------------------------------------------------------------------------------------------------------------------------------------------------------------------------------------------------------------------------------------------------------------------------------------------------------------------------------------------------------------------------------------------------------------------------------------------------------------------------------------------------------------------------------------------------------------------------------------------------------------------------------------------------------------------------------------------------------------------------------------------------------------------------------------------------------------------------------------------------------------------------------------------------------------------------------------------------------------------------------------------------------------------------------------------------------------------------------------------------------------------------------------------------------------------------------------------------------------------------------------------------------------------------------+-----+------+------------+------+----------------------+-------------------+\nonly showing top 5 rows\n\n"
     ]
    }
   ],
   "source": [
    "describe_dataframe(user_df)"
   ]
  },
  {
   "cell_type": "markdown",
   "metadata": {
    "application/vnd.databricks.v1+cell": {
     "cellMetadata": {},
     "inputWidgets": {},
     "nuid": "4db3a9a5-ec46-44ec-817d-0ccda433555b",
     "showTitle": false,
     "tableResultSettingsMap": {},
     "title": ""
    }
   },
   "source": [
    "#### elite_years"
   ]
  },
  {
   "cell_type": "code",
   "execution_count": 0,
   "metadata": {
    "application/vnd.databricks.v1+cell": {
     "cellMetadata": {
      "byteLimit": 2048000,
      "rowLimit": 10000
     },
     "inputWidgets": {},
     "nuid": "cdfec18a-cca8-46a1-af1d-fe4def09e277",
     "showTitle": false,
     "tableResultSettingsMap": {},
     "title": ""
    }
   },
   "outputs": [],
   "source": [
    "# Transform the 'elite' column into individual years\n",
    "elite_years_df = user_df.select(\"user_id\", \"elite\") \\\n",
    "    .filter(F.col(\"elite\").isNotNull()) \\\n",
    "    .withColumn(\"year\", F.explode(F.split(F.col(\"elite\"), \",\"))) \\\n",
    "    .filter((F.col(\"year\") != \"\") & (F.col(\"year\").isNotNull())) \\\n",
    "    .withColumn(\"year\", F.col(\"year\").cast(\"integer\")) \\\n",
    "    .select(\"user_id\", \"year\")"
   ]
  },
  {
   "cell_type": "code",
   "execution_count": 0,
   "metadata": {
    "application/vnd.databricks.v1+cell": {
     "cellMetadata": {
      "byteLimit": 2048000,
      "rowLimit": 10000
     },
     "inputWidgets": {},
     "nuid": "9f111840-6fd3-408e-86d3-91330b812658",
     "showTitle": false,
     "tableResultSettingsMap": {},
     "title": ""
    }
   },
   "outputs": [
    {
     "output_type": "stream",
     "name": "stdout",
     "output_type": "stream",
     "text": [
      "Successfully written Parquet file to abfss://silver@adlsyelpdata.dfs.core.windows.net/elite_years.parquet\n"
     ]
    }
   ],
   "source": [
    "output_path = \"abfss://silver@adlsyelpdata.dfs.core.windows.net/elite_years.parquet\"\n",
    "write_parquet_to_adls(elite_years_df, output_path)"
   ]
  },
  {
   "cell_type": "markdown",
   "metadata": {
    "application/vnd.databricks.v1+cell": {
     "cellMetadata": {},
     "inputWidgets": {},
     "nuid": "ad723faf-be50-4c20-b984-82d5ccf5916a",
     "showTitle": false,
     "tableResultSettingsMap": {},
     "title": ""
    }
   },
   "source": [
    "#### friends"
   ]
  },
  {
   "cell_type": "code",
   "execution_count": 0,
   "metadata": {
    "application/vnd.databricks.v1+cell": {
     "cellMetadata": {
      "byteLimit": 2048000,
      "rowLimit": 10000
     },
     "inputWidgets": {},
     "nuid": "2c9819d8-6841-4034-a078-6d5757c63fa4",
     "showTitle": false,
     "tableResultSettingsMap": {},
     "title": ""
    }
   },
   "outputs": [],
   "source": [
    "# Transform the 'friends' column into individual friend relationships\n",
    "friends_df = user_df.select(\"user_id\", \"friends\") \\\n",
    "    .filter(F.col(\"friends\").isNotNull()) \\\n",
    "    .withColumn(\"friend_id\", F.explode(F.split(F.col(\"friends\"), \",\\\\s*\"))) \\\n",
    "    .filter((F.col(\"friend_id\") != \"\") & (F.col(\"friend_id\").isNotNull())) \\\n",
    "    .select(\"user_id\", \"friend_id\") \\\n",
    "    .distinct()"
   ]
  },
  {
   "cell_type": "code",
   "execution_count": 0,
   "metadata": {
    "application/vnd.databricks.v1+cell": {
     "cellMetadata": {
      "byteLimit": 2048000,
      "rowLimit": 10000
     },
     "inputWidgets": {},
     "nuid": "92439598-058b-4b6f-a430-b85bd3d04964",
     "showTitle": false,
     "tableResultSettingsMap": {},
     "title": ""
    }
   },
   "outputs": [
    {
     "output_type": "stream",
     "name": "stdout",
     "output_type": "stream",
     "text": [
      "Successfully written Parquet file to abfss://silver@adlsyelpdata.dfs.core.windows.net/friends.parquet\n"
     ]
    }
   ],
   "source": [
    "output_path = \"abfss://silver@adlsyelpdata.dfs.core.windows.net/friends.parquet\"\n",
    "write_parquet_to_adls(friends_df, output_path)"
   ]
  },
  {
   "cell_type": "code",
   "execution_count": 0,
   "metadata": {
    "application/vnd.databricks.v1+cell": {
     "cellMetadata": {
      "byteLimit": 2048000,
      "rowLimit": 10000
     },
     "inputWidgets": {},
     "nuid": "b3cd19d0-cd50-40a1-8c6b-7a94b3ec601a",
     "showTitle": false,
     "tableResultSettingsMap": {},
     "title": ""
    }
   },
   "outputs": [],
   "source": [
    "# Drop unnecessary fields and cast 'yelping_since' to timestamp\n",
    "user_df = user_df.drop(\"elite\", \"friends\") \\\n",
    "    .filter(F.col(\"yelping_since\").isNotNull()) \\\n",
    "    .withColumn(\"yelping_since\", F.to_timestamp(\"yelping_since\"))"
   ]
  },
  {
   "cell_type": "code",
   "execution_count": 0,
   "metadata": {
    "application/vnd.databricks.v1+cell": {
     "cellMetadata": {
      "byteLimit": 2048000,
      "rowLimit": 10000
     },
     "inputWidgets": {},
     "nuid": "33d68eb8-7a34-42ee-9a0e-a549f0ac81f5",
     "showTitle": false,
     "tableResultSettingsMap": {},
     "title": ""
    }
   },
   "outputs": [
    {
     "output_type": "stream",
     "name": "stdout",
     "output_type": "stream",
     "text": [
      "Successfully written Parquet file to abfss://silver@adlsyelpdata.dfs.core.windows.net/user.parquet\n"
     ]
    }
   ],
   "source": [
    "output_path = \"abfss://silver@adlsyelpdata.dfs.core.windows.net/user.parquet\"\n",
    "write_parquet_to_adls(user_df, output_path)"
   ]
  },
  {
   "cell_type": "markdown",
   "metadata": {
    "application/vnd.databricks.v1+cell": {
     "cellMetadata": {},
     "inputWidgets": {},
     "nuid": "904e4138-32cf-42bd-b60b-4436eb24d423",
     "showTitle": false,
     "tableResultSettingsMap": {},
     "title": ""
    }
   },
   "source": [
    "### checkin.json"
   ]
  },
  {
   "cell_type": "code",
   "execution_count": 0,
   "metadata": {
    "application/vnd.databricks.v1+cell": {
     "cellMetadata": {
      "byteLimit": 2048000,
      "rowLimit": 10000
     },
     "inputWidgets": {},
     "nuid": "ff50b43d-84ce-47a9-8cf1-a2213a678cb2",
     "showTitle": false,
     "tableResultSettingsMap": {},
     "title": ""
    }
   },
   "outputs": [
    {
     "output_type": "stream",
     "name": "stdout",
     "output_type": "stream",
     "text": [
      "Successfully loaded file: abfss://bronze@adlsyelpdata.dfs.core.windows.net/yelp_open/yelp_academic_dataset_checkin.json as .JSON\n=== DataFrame Overview ===\n\nNumber of rows: 131930\nNumber of columns: 2\n\nSchema:\nroot\n |-- business_id: string (nullable = true)\n |-- date: string (nullable = true)\n\n\nSample Data (First 5 Rows):\n+----------------------+----------------------------------------------------------------------------------------------------------------------------------------------------------------------------------------------------------------------------------------------------------------------------------------------------------------------------------------------------------------------------------------------------------------------------------------------------------------------------------------------------------------------------------------------------------------+\n|business_id           |date                                                                                                                                                                                                                                                                                                                                                                                                                                                                                                                                                            |\n+----------------------+----------------------------------------------------------------------------------------------------------------------------------------------------------------------------------------------------------------------------------------------------------------------------------------------------------------------------------------------------------------------------------------------------------------------------------------------------------------------------------------------------------------------------------------------------------------+\n|---kPU91CF4Lq2-WlRu9Lw|2020-03-13 21:10:56, 2020-06-02 22:18:06, 2020-07-24 22:42:27, 2020-10-24 21:36:13, 2020-12-09 21:23:33, 2021-01-20 17:34:57, 2021-04-30 21:02:03, 2021-05-25 21:16:54, 2021-08-06 21:08:08, 2021-10-02 15:15:42, 2021-11-11 16:23:50                                                                                                                                                                                                                                                                                                                           |\n|--0iUa4sNDFiZFrAdIWhZQ|2010-09-13 21:43:09, 2011-05-04 23:08:15, 2011-07-18 22:30:31, 2012-09-07 20:28:50, 2013-03-27 15:57:36, 2013-08-13 00:31:34, 2013-08-13 00:31:48, 2013-09-23 17:39:38, 2013-11-18 06:34:08, 2014-04-12 23:04:47                                                                                                                                                                                                                                                                                                                                                |\n|--30_8IhuyMHbSOcNWd6DQ|2013-06-14 23:29:17, 2014-08-13 23:20:22                                                                                                                                                                                                                                                                                                                                                                                                                                                                                                                        |\n|--7PUidqRWpRSpXebiyxTg|2011-02-15 17:12:00, 2011-07-28 02:46:10, 2012-03-11 10:30:02, 2012-04-24 07:07:59, 2012-04-24 07:43:31, 2013-05-25 16:41:10, 2014-05-02 15:49:55, 2014-09-18 02:28:23, 2014-11-10 15:16:43, 2015-09-27 13:18:32                                                                                                                                                                                                                                                                                                                                                |\n|--7jw19RH9JKXgFohspgQw|2014-04-21 20:42:11, 2014-04-28 21:04:46, 2014-09-30 14:41:47, 2014-10-23 18:22:28, 2015-04-27 19:55:00, 2015-09-21 12:52:09, 2015-10-01 12:46:16, 2015-10-22 13:35:04, 2016-01-14 12:27:43, 2016-02-01 15:15:07, 2016-02-11 12:22:47, 2016-03-31 23:15:46, 2016-04-11 13:11:34, 2016-05-25 12:44:11, 2016-06-27 15:46:11, 2016-06-30 15:14:28, 2016-07-28 14:15:59, 2016-09-22 20:05:06, 2016-11-16 19:00:11, 2016-12-27 14:36:14, 2017-01-24 20:18:16, 2017-02-21 16:01:49, 2017-03-21 14:08:44, 2017-05-21 16:07:21, 2017-08-07 14:17:39, 2021-06-21 19:59:50|\n+----------------------+----------------------------------------------------------------------------------------------------------------------------------------------------------------------------------------------------------------------------------------------------------------------------------------------------------------------------------------------------------------------------------------------------------------------------------------------------------------------------------------------------------------------------------------------------------------+\nonly showing top 5 rows\n\n"
     ]
    }
   ],
   "source": [
    "checkin_df = read_file_from_adls(checkin_path)\n",
    "describe_dataframe(checkin_df)"
   ]
  },
  {
   "cell_type": "code",
   "execution_count": 0,
   "metadata": {
    "application/vnd.databricks.v1+cell": {
     "cellMetadata": {
      "byteLimit": 2048000,
      "rowLimit": 10000
     },
     "inputWidgets": {},
     "nuid": "d851c813-a1a4-4f70-9e2a-a99a64aedea1",
     "showTitle": false,
     "tableResultSettingsMap": {},
     "title": ""
    }
   },
   "outputs": [],
   "source": [
    "# Transform the 'date' column into individual timestamps\n",
    "checkin_df = checkin_df.select(\"business_id\", \"date\") \\\n",
    "    .filter(F.col(\"date\").isNotNull()) \\\n",
    "    .withColumn(\"ts\", F.explode(F.split(F.col(\"date\"), \",\\\\s*\"))) \\\n",
    "    .filter((F.col(\"ts\") != \"\") & (F.col(\"ts\").isNotNull())) \\\n",
    "    .withColumn(\"ts\", F.to_timestamp(\"ts\")) \\\n",
    "    .select(\"business_id\", \"ts\")"
   ]
  },
  {
   "cell_type": "code",
   "execution_count": 0,
   "metadata": {
    "application/vnd.databricks.v1+cell": {
     "cellMetadata": {
      "byteLimit": 2048000,
      "rowLimit": 10000
     },
     "inputWidgets": {},
     "nuid": "705bc471-13c4-413c-870c-1f2fd759abf1",
     "showTitle": false,
     "tableResultSettingsMap": {},
     "title": ""
    }
   },
   "outputs": [
    {
     "output_type": "stream",
     "name": "stdout",
     "output_type": "stream",
     "text": [
      "Successfully written Parquet file to abfss://silver@adlsyelpdata.dfs.core.windows.net/checkin.parquet\n"
     ]
    }
   ],
   "source": [
    "output_path = \"abfss://silver@adlsyelpdata.dfs.core.windows.net/checkin.parquet\"\n",
    "write_parquet_to_adls(checkin_df, output_path)"
   ]
  },
  {
   "cell_type": "markdown",
   "metadata": {
    "application/vnd.databricks.v1+cell": {
     "cellMetadata": {},
     "inputWidgets": {},
     "nuid": "a53f4ee6-e843-48cb-9911-a9846bf056c3",
     "showTitle": false,
     "tableResultSettingsMap": {},
     "title": ""
    }
   },
   "source": [
    "### tip.json"
   ]
  },
  {
   "cell_type": "code",
   "execution_count": 0,
   "metadata": {
    "application/vnd.databricks.v1+cell": {
     "cellMetadata": {
      "byteLimit": 2048000,
      "rowLimit": 10000
     },
     "inputWidgets": {},
     "nuid": "c9c5cbd7-ca32-42fb-88a4-e3b62b7711de",
     "showTitle": false,
     "tableResultSettingsMap": {},
     "title": ""
    }
   },
   "outputs": [
    {
     "output_type": "stream",
     "name": "stdout",
     "output_type": "stream",
     "text": [
      "Successfully loaded file: abfss://bronze@adlsyelpdata.dfs.core.windows.net/yelp_open/yelp_academic_dataset_tip.json as .JSON\n=== DataFrame Overview ===\n\nNumber of rows: 908915\nNumber of columns: 5\n\nSchema:\nroot\n |-- business_id: string (nullable = true)\n |-- compliment_count: long (nullable = true)\n |-- date: string (nullable = true)\n |-- text: string (nullable = true)\n |-- user_id: string (nullable = true)\n\n\nSample Data (First 5 Rows):\n+----------------------+----------------+-------------------+---------------------------------------------------------+----------------------+\n|business_id           |compliment_count|date               |text                                                     |user_id               |\n+----------------------+----------------+-------------------+---------------------------------------------------------+----------------------+\n|3uLgwr0qeCNMjKenHJwPGQ|0               |2012-05-18 02:17:21|Avengers time with the ladies.                           |AGNUgVwnZUey3gcPCJ76iw|\n|QoezRbYQncpRqyrLH6Iqjg|0               |2013-02-05 18:35:10|They have lots of good deserts and tasty cuban sandwiches|NBN4MgHP9D3cw--SnauTkA|\n|MYoRNLb5chwjQe3c_k37Gg|0               |2013-08-18 00:56:08|It's open even when you think it isn't                   |-copOvldyKh1qr-vzkDEvw|\n|hV-bABTK-glh5wj31ps_Jw|0               |2017-06-27 23:05:38|Very decent fried chicken                                |FjMQVZjSqY8syIO-53KFKw|\n|_uN0OudeJ3Zl_tf6nxg5ww|0               |2012-10-06 19:43:09|Appetizers.. platter special for lunch                   |ld0AperBXk1h6UbqmM80zw|\n+----------------------+----------------+-------------------+---------------------------------------------------------+----------------------+\nonly showing top 5 rows\n\n"
     ]
    }
   ],
   "source": [
    "tip_df = read_file_from_adls(tip_path)\n",
    "describe_dataframe(tip_df)"
   ]
  },
  {
   "cell_type": "code",
   "execution_count": 0,
   "metadata": {
    "application/vnd.databricks.v1+cell": {
     "cellMetadata": {
      "byteLimit": 2048000,
      "rowLimit": 10000
     },
     "inputWidgets": {},
     "nuid": "cd019a40-3e44-4e66-9ab8-e73e2da1455a",
     "showTitle": false,
     "tableResultSettingsMap": {},
     "title": ""
    }
   },
   "outputs": [],
   "source": [
    "tips_df = tip_df.withColumn(\"ts\", F.to_timestamp(\"date\")) \\\n",
    "    .drop(\"date\") \\\n",
    "    .withColumn(\"tip_id\", F.row_number().over(Window.orderBy(\"ts\")))"
   ]
  },
  {
   "cell_type": "code",
   "execution_count": 0,
   "metadata": {
    "application/vnd.databricks.v1+cell": {
     "cellMetadata": {
      "byteLimit": 2048000,
      "rowLimit": 10000
     },
     "inputWidgets": {},
     "nuid": "634192f8-ef34-4acc-9a52-d2dca05c6a41",
     "showTitle": false,
     "tableResultSettingsMap": {},
     "title": ""
    }
   },
   "outputs": [
    {
     "output_type": "stream",
     "name": "stdout",
     "output_type": "stream",
     "text": [
      "Successfully written Parquet file to abfss://silver@adlsyelpdata.dfs.core.windows.net/tips.parquet\n"
     ]
    }
   ],
   "source": [
    "output_path = \"abfss://silver@adlsyelpdata.dfs.core.windows.net/tips.parquet\"\n",
    "write_parquet_to_adls(tips_df, output_path)"
   ]
  }
 ],
 "metadata": {
  "application/vnd.databricks.v1+notebook": {
   "dashboards": [],
   "environmentMetadata": {
    "base_environment": "",
    "client": "1"
   },
   "language": "python",
   "notebookMetadata": {
    "pythonIndentUnit": 4
   },
   "notebookName": "Normalization_Yelp",
   "widgets": {}
  },
  "language_info": {
   "name": "python"
  }
 },
 "nbformat": 4,
 "nbformat_minor": 0
}